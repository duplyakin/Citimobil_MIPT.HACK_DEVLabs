{
  "nbformat": 4,
  "nbformat_minor": 0,
  "metadata": {
    "colab": {
      "name": "MIPTHack_h0tlin3.ipynb",
      "provenance": [],
      "collapsed_sections": [
        "sPcSCWNR_2cE",
        "L4vHK0G9Ddy4"
      ],
      "machine_shape": "hm"
    },
    "kernelspec": {
      "name": "python3",
      "display_name": "Python 3"
    }
  },
  "cells": [
    {
      "cell_type": "code",
      "metadata": {
        "id": "MP4001IkDZQb",
        "colab_type": "code",
        "outputId": "95fca8f0-ae24-4eb3-edd5-c3f14871aded",
        "colab": {
          "base_uri": "https://localhost:8080/",
          "height": 179
        }
      },
      "source": [
        "!pip install polyline\n",
        "!pip install geopy\n",
        "!pip install torch\n",
        "!pip install tqdm\n",
        "!pip install plotly"
      ],
      "execution_count": 0,
      "outputs": [
        {
          "output_type": "stream",
          "text": [
            "Requirement already satisfied: polyline in /usr/local/lib/python3.6/dist-packages (1.4.0)\n",
            "Requirement already satisfied: six>=1.8.0 in /usr/local/lib/python3.6/dist-packages (from polyline) (1.12.0)\n",
            "Requirement already satisfied: geopy in /usr/local/lib/python3.6/dist-packages (1.17.0)\n",
            "Requirement already satisfied: geographiclib<2,>=1.49 in /usr/local/lib/python3.6/dist-packages (from geopy) (1.50)\n",
            "Requirement already satisfied: torch in /usr/local/lib/python3.6/dist-packages (1.4.0)\n",
            "Requirement already satisfied: tqdm in /usr/local/lib/python3.6/dist-packages (4.38.0)\n",
            "Requirement already satisfied: plotly in /usr/local/lib/python3.6/dist-packages (4.4.1)\n",
            "Requirement already satisfied: retrying>=1.3.3 in /usr/local/lib/python3.6/dist-packages (from plotly) (1.3.3)\n",
            "Requirement already satisfied: six in /usr/local/lib/python3.6/dist-packages (from plotly) (1.12.0)\n"
          ],
          "name": "stdout"
        }
      ]
    },
    {
      "cell_type": "code",
      "metadata": {
        "id": "jLrQMNfc8BcO",
        "colab_type": "code",
        "outputId": "9d201f98-ce78-489a-f939-568e4bad5b85",
        "colab": {
          "base_uri": "https://localhost:8080/",
          "height": 73
        }
      },
      "source": [
        "import pandas as pd\n",
        "import numpy as np\n",
        "\n",
        "from geopy.distance import geodesic\n",
        "import polyline as pll\n",
        "\n",
        "import matplotlib.pyplot as plt\n",
        "from matplotlib.cbook import boxplot_stats\n",
        "import seaborn as sns\n",
        "\n",
        "from sklearn.decomposition import PCA\n",
        "\n",
        "from tqdm import tqdm"
      ],
      "execution_count": 0,
      "outputs": [
        {
          "output_type": "stream",
          "text": [
            "/usr/local/lib/python3.6/dist-packages/statsmodels/tools/_testing.py:19: FutureWarning: pandas.util.testing is deprecated. Use the functions in the public API at pandas.testing instead.\n",
            "  import pandas.util.testing as tm\n"
          ],
          "name": "stderr"
        }
      ]
    },
    {
      "cell_type": "code",
      "metadata": {
        "id": "CFzJ4O1o8fIo",
        "colab_type": "code",
        "outputId": "e53b7acc-8c8b-4e8a-b8b6-6d71c680de8a",
        "colab": {
          "base_uri": "https://localhost:8080/",
          "height": 413
        }
      },
      "source": [
        "df = pd.read_csv('/content/drive/My Drive/hack/train.csv',index_col=0)\n",
        "df = df.append(pd.read_csv('/content/drive/My Drive/hack/validation.csv',index_col = 0),ignore_index=True)\n",
        "\n",
        "df_test = pd.read_csv('/content/drive/My Drive/hack/test.csv',index_col=0)\n",
        "print(df.shape)\n",
        "df.dropna(axis=0,subset=['onway_latitude','onway_longitude','ready_latitude','ready_longitude','arrived_latitude','arrived_longitude'],inplace=True)\n",
        "print(df.shape)\n",
        "df.head()"
      ],
      "execution_count": 0,
      "outputs": [
        {
          "output_type": "stream",
          "text": [
            "(739042, 23)\n",
            "(735834, 23)\n"
          ],
          "name": "stdout"
        },
        {
          "output_type": "execute_result",
          "data": {
            "text/html": [
              "<div>\n",
              "<style scoped>\n",
              "    .dataframe tbody tr th:only-of-type {\n",
              "        vertical-align: middle;\n",
              "    }\n",
              "\n",
              "    .dataframe tbody tr th {\n",
              "        vertical-align: top;\n",
              "    }\n",
              "\n",
              "    .dataframe thead th {\n",
              "        text-align: right;\n",
              "    }\n",
              "</style>\n",
              "<table border=\"1\" class=\"dataframe\">\n",
              "  <thead>\n",
              "    <tr style=\"text-align: right;\">\n",
              "      <th></th>\n",
              "      <th>main_id_locality</th>\n",
              "      <th>ETA</th>\n",
              "      <th>RTA</th>\n",
              "      <th>OrderedDate</th>\n",
              "      <th>latitude</th>\n",
              "      <th>del_latitude</th>\n",
              "      <th>longitude</th>\n",
              "      <th>del_longitude</th>\n",
              "      <th>EDA</th>\n",
              "      <th>RDA</th>\n",
              "      <th>ReadyForCollection</th>\n",
              "      <th>ClientCollected</th>\n",
              "      <th>GoodArrived</th>\n",
              "      <th>ready_latitude</th>\n",
              "      <th>ready_longitude</th>\n",
              "      <th>onway_latitude</th>\n",
              "      <th>onway_longitude</th>\n",
              "      <th>arrived_latitude</th>\n",
              "      <th>arrived_longitude</th>\n",
              "      <th>center_latitude</th>\n",
              "      <th>center_longitude</th>\n",
              "      <th>route</th>\n",
              "      <th>track</th>\n",
              "    </tr>\n",
              "  </thead>\n",
              "  <tbody>\n",
              "    <tr>\n",
              "      <th>0</th>\n",
              "      <td>338</td>\n",
              "      <td>1249.0</td>\n",
              "      <td>1076.0</td>\n",
              "      <td>2020-03-11 20:43:49</td>\n",
              "      <td>45.013191</td>\n",
              "      <td>45.040428</td>\n",
              "      <td>38.981220</td>\n",
              "      <td>39.026501</td>\n",
              "      <td>7.0</td>\n",
              "      <td>8.0</td>\n",
              "      <td>2020-03-11 20:48:52</td>\n",
              "      <td>2020-03-11 20:48:58</td>\n",
              "      <td>2020-03-11 21:06:54</td>\n",
              "      <td>45.012991</td>\n",
              "      <td>38.981120</td>\n",
              "      <td>45.012991</td>\n",
              "      <td>38.981120</td>\n",
              "      <td>45.040108</td>\n",
              "      <td>39.026086</td>\n",
              "      <td>45.040235</td>\n",
              "      <td>38.976080</td>\n",
              "      <td>stvqG{n|lFf@bCN|@NhBH~D?n@MvC_@rES`B??YFWCoAgE...</td>\n",
              "      <td>NaN</td>\n",
              "    </tr>\n",
              "    <tr>\n",
              "      <th>1</th>\n",
              "      <td>22402</td>\n",
              "      <td>1822.0</td>\n",
              "      <td>1812.0</td>\n",
              "      <td>2020-02-03 14:27:22</td>\n",
              "      <td>54.735378</td>\n",
              "      <td>54.710651</td>\n",
              "      <td>55.961922</td>\n",
              "      <td>55.822079</td>\n",
              "      <td>15.0</td>\n",
              "      <td>14.0</td>\n",
              "      <td>2020-02-03 14:34:41</td>\n",
              "      <td>2020-02-03 14:35:36</td>\n",
              "      <td>2020-02-03 15:05:48</td>\n",
              "      <td>54.735327</td>\n",
              "      <td>55.961558</td>\n",
              "      <td>54.735515</td>\n",
              "      <td>55.962046</td>\n",
              "      <td>54.710222</td>\n",
              "      <td>55.822577</td>\n",
              "      <td>54.734853</td>\n",
              "      <td>55.957865</td>\n",
              "      <td>ooamI}`qtIXtE??h@_@|@^??lAaN??jA`@??XwD`@_E|@u...</td>\n",
              "      <td>m_qtI}namIWEQASCO?@B@@A@??????????EAKEBKHGDA??...</td>\n",
              "    </tr>\n",
              "    <tr>\n",
              "      <th>2</th>\n",
              "      <td>22394</td>\n",
              "      <td>410.0</td>\n",
              "      <td>336.0</td>\n",
              "      <td>2020-02-22 11:15:02</td>\n",
              "      <td>53.529202</td>\n",
              "      <td>53.543640</td>\n",
              "      <td>49.337990</td>\n",
              "      <td>49.351028</td>\n",
              "      <td>2.0</td>\n",
              "      <td>2.0</td>\n",
              "      <td>2020-02-22 11:17:51</td>\n",
              "      <td>2020-02-22 11:18:32</td>\n",
              "      <td>2020-02-22 11:24:08</td>\n",
              "      <td>53.530384</td>\n",
              "      <td>49.339986</td>\n",
              "      <td>53.529227</td>\n",
              "      <td>49.338437</td>\n",
              "      <td>53.543038</td>\n",
              "      <td>49.350991</td>\n",
              "      <td>53.516670</td>\n",
              "      <td>49.416670</td>\n",
              "      <td>u}ueI_hclHwBkGaDqJo@oA]OiCuHK[M{@??Ag@Ie@UYSIU...</td>\n",
              "      <td>wlclHk}ueIGJVH????LJEJ\\AtCJbBTHFVB?n@hC\\`@iBiA...</td>\n",
              "    </tr>\n",
              "    <tr>\n",
              "      <th>3</th>\n",
              "      <td>22406</td>\n",
              "      <td>653.0</td>\n",
              "      <td>558.0</td>\n",
              "      <td>2020-02-26 22:21:28</td>\n",
              "      <td>56.836250</td>\n",
              "      <td>56.863159</td>\n",
              "      <td>60.632580</td>\n",
              "      <td>60.654831</td>\n",
              "      <td>4.0</td>\n",
              "      <td>4.0</td>\n",
              "      <td>2020-02-26 22:30:08</td>\n",
              "      <td>2020-02-26 22:30:16</td>\n",
              "      <td>2020-02-26 22:39:34</td>\n",
              "      <td>56.836830</td>\n",
              "      <td>60.633442</td>\n",
              "      <td>56.836830</td>\n",
              "      <td>60.633442</td>\n",
              "      <td>56.862945</td>\n",
              "      <td>60.654256</td>\n",
              "      <td>56.838633</td>\n",
              "      <td>60.605489</td>\n",
              "      <td>qy{yIshaqJuADoAS_Bb@??UiE??wIfCgOrD}FhB_Bd@??m...</td>\n",
              "      <td>upaqJ{b|yI??^Dl@RFRCTFPNP?PIXGVAH????AA?????A@...</td>\n",
              "    </tr>\n",
              "    <tr>\n",
              "      <th>4</th>\n",
              "      <td>22406</td>\n",
              "      <td>518.0</td>\n",
              "      <td>463.0</td>\n",
              "      <td>2020-01-31 07:24:25</td>\n",
              "      <td>56.798431</td>\n",
              "      <td>56.782021</td>\n",
              "      <td>60.632622</td>\n",
              "      <td>60.681702</td>\n",
              "      <td>6.0</td>\n",
              "      <td>6.0</td>\n",
              "      <td>2020-01-31 07:28:34</td>\n",
              "      <td>2020-01-31 07:28:57</td>\n",
              "      <td>2020-01-31 07:36:40</td>\n",
              "      <td>56.798378</td>\n",
              "      <td>60.632567</td>\n",
              "      <td>56.798399</td>\n",
              "      <td>60.632575</td>\n",
              "      <td>56.782251</td>\n",
              "      <td>60.682133</td>\n",
              "      <td>56.838633</td>\n",
              "      <td>60.605489</td>\n",
              "      <td>gmtyI{haqJ\\f@??]pA]|@i@t@[Z_@X??c@gDcAoI??aEzB...</td>\n",
              "      <td>NaN</td>\n",
              "    </tr>\n",
              "  </tbody>\n",
              "</table>\n",
              "</div>"
            ],
            "text/plain": [
              "   main_id_locality  ...                                              track\n",
              "0               338  ...                                                NaN\n",
              "1             22402  ...  m_qtI}namIWEQASCO?@B@@A@??????????EAKEBKHGDA??...\n",
              "2             22394  ...  wlclHk}ueIGJVH????LJEJ\\AtCJbBTHFVB?n@hC\\`@iBiA...\n",
              "3             22406  ...  upaqJ{b|yI??^Dl@RFRCTFPNP?PIXGVAH????AA?????A@...\n",
              "4             22406  ...                                                NaN\n",
              "\n",
              "[5 rows x 23 columns]"
            ]
          },
          "metadata": {
            "tags": []
          },
          "execution_count": 3
        }
      ]
    },
    {
      "cell_type": "code",
      "metadata": {
        "id": "e0gDL0lG_DEM",
        "colab_type": "code",
        "outputId": "dfa35a75-e97d-4108-8d63-3c67d96dd48e",
        "colab": {
          "base_uri": "https://localhost:8080/",
          "height": 143
        }
      },
      "source": [
        "df.columns"
      ],
      "execution_count": 0,
      "outputs": [
        {
          "output_type": "execute_result",
          "data": {
            "text/plain": [
              "Index(['main_id_locality', 'ETA', 'RTA', 'OrderedDate', 'latitude',\n",
              "       'del_latitude', 'longitude', 'del_longitude', 'EDA', 'RDA',\n",
              "       'ReadyForCollection', 'ClientCollected', 'GoodArrived',\n",
              "       'ready_latitude', 'ready_longitude', 'onway_latitude',\n",
              "       'onway_longitude', 'arrived_latitude', 'arrived_longitude',\n",
              "       'center_latitude', 'center_longitude', 'route', 'track'],\n",
              "      dtype='object')"
            ]
          },
          "metadata": {
            "tags": []
          },
          "execution_count": 4
        }
      ]
    },
    {
      "cell_type": "code",
      "metadata": {
        "id": "6lD5dyht8XhC",
        "colab_type": "code",
        "outputId": "96f2a6e8-85b2-46a6-8e2b-e43aab846c4d",
        "colab": {
          "base_uri": "https://localhost:8080/",
          "height": 449
        }
      },
      "source": [
        "df.dtypes,df.shape"
      ],
      "execution_count": 0,
      "outputs": [
        {
          "output_type": "execute_result",
          "data": {
            "text/plain": [
              "(main_id_locality        int64\n",
              " ETA                   float64\n",
              " RTA                   float64\n",
              " OrderedDate            object\n",
              " latitude              float64\n",
              " del_latitude          float64\n",
              " longitude             float64\n",
              " del_longitude         float64\n",
              " EDA                   float64\n",
              " RDA                   float64\n",
              " ReadyForCollection     object\n",
              " ClientCollected        object\n",
              " GoodArrived            object\n",
              " ready_latitude        float64\n",
              " ready_longitude       float64\n",
              " onway_latitude        float64\n",
              " onway_longitude       float64\n",
              " arrived_latitude      float64\n",
              " arrived_longitude     float64\n",
              " center_latitude       float64\n",
              " center_longitude      float64\n",
              " route                  object\n",
              " track                  object\n",
              " dtype: object, (735834, 23))"
            ]
          },
          "metadata": {
            "tags": []
          },
          "execution_count": 5
        }
      ]
    },
    {
      "cell_type": "code",
      "metadata": {
        "id": "ai_59-hE-q42",
        "colab_type": "code",
        "colab": {}
      },
      "source": [
        "df['OrderedDate'] = pd.to_datetime(df['OrderedDate'],format='%Y-%m-%d %H:%M:%S')\n",
        "df_test['OrderedDate'] = pd.to_datetime(df_test['OrderedDate'],format='%Y-%m-%d %H:%M:%S')\n",
        "\n",
        "df['ReadyForCollection'] = pd.to_datetime(df['ReadyForCollection'],format='%Y-%m-%d %H:%M:%S')\n",
        "df['ClientCollected'] = pd.to_datetime(df['ClientCollected'],format='%Y-%m-%d %H:%M:%S')\n",
        "df['GoodArrived'] = pd.to_datetime(df['GoodArrived'],format='%Y-%m-%d %H:%M:%S')\n",
        "\n",
        "df['StartPoint'] = list(zip(df.latitude,df.longitude))\n",
        "df['EndPoint'] = list(zip(df.del_latitude,df.del_longitude))\n",
        "df['CenterPoint'] = list(zip(df.center_latitude,df.center_longitude))\n",
        "\n",
        "df['ReadyPoint'] = list(zip(df.ready_latitude,df.ready_longitude))\n",
        "df['OnWayPoint'] = list(zip(df.onway_latitude,df.onway_longitude))\n",
        "df['ArrivedPoint'] = list(zip(df.arrived_latitude,df.arrived_longitude))"
      ],
      "execution_count": 0,
      "outputs": []
    },
    {
      "cell_type": "code",
      "metadata": {
        "id": "X2aq2_PPvgYJ",
        "colab_type": "code",
        "outputId": "0d847a77-0dc6-4e88-f341-98ffbd314f11",
        "colab": {
          "base_uri": "https://localhost:8080/",
          "height": 280
        }
      },
      "source": [
        "df['log_RTA'] = np.log(df['RTA'].values + 1)\n",
        "plt.hist(df['log_RTA'].values, bins=100)\n",
        "plt.xlabel('log(trip_duration)')\n",
        "plt.ylabel('number of train records')\n",
        "plt.show()"
      ],
      "execution_count": 0,
      "outputs": [
        {
          "output_type": "display_data",
          "data": {
            "image/png": "[encoded data removed]",
            "text/plain": [
              "<Figure size 432x288 with 1 Axes>"
            ]
          },
          "metadata": {
            "tags": [],
            "needs_background": "light"
          }
        }
      ]
    },
    {
      "cell_type": "code",
      "metadata": {
        "id": "c23hT_9QIyfQ",
        "colab_type": "code",
        "outputId": "d251949a-0e18-47a1-a95a-b811a32e3d9e",
        "colab": {
          "base_uri": "https://localhost:8080/",
          "height": 879
        }
      },
      "source": [
        "#Date range\n",
        "fig = plt.figure(figsize=(20,15))\n",
        "plt.plot(df.groupby('OrderedDate').count()[['main_id_locality']], 'o-', label='train')\n",
        "plt.plot(df_test.groupby('OrderedDate').count()[['main_id_locality']], 'o-', label='test')\n",
        "plt.title('Train and test period complete overlap.')\n",
        "plt.legend(loc=0)\n",
        "plt.ylabel('number of records')\n",
        "plt.show()"
      ],
      "execution_count": 0,
      "outputs": [
        {
          "output_type": "display_data",
          "data": {
            "image/png": "[encoded data removed]",
            "text/plain": [
              "<Figure size 1440x1080 with 1 Axes>"
            ]
          },
          "metadata": {
            "tags": [],
            "needs_background": "light"
          }
        }
      ]
    },
    {
      "cell_type": "code",
      "metadata": {
        "id": "z4mWpPjQ-vN1",
        "colab_type": "code",
        "outputId": "d0653a76-b702-4773-94f3-f2d1d9ab94bf",
        "colab": {
          "base_uri": "https://localhost:8080/",
          "height": 308
        }
      },
      "source": [
        "N=40000\n",
        "fig, ax = plt.subplots(ncols=2, sharex=True, sharey=True)\n",
        "ax[0].scatter(df['longitude'].values[:N], df['latitude'].values[:N],\n",
        "              color='blue', s=1, label='train', alpha=0.1)\n",
        "ax[1].scatter(df_test['longitude'].values[:N], df_test['latitude'].values[:N],\n",
        "              color='green', s=1, label='test', alpha=0.1)\n",
        "fig.suptitle('Train and test area complete overlap.')\n",
        "ax[0].legend(loc=0)\n",
        "ax[0].set_ylabel('latitude')\n",
        "ax[0].set_xlabel('longitude')\n",
        "ax[1].set_xlabel('longitude')\n",
        "ax[1].legend(loc=0)\n",
        "plt.show()"
      ],
      "execution_count": 0,
      "outputs": [
        {
          "output_type": "display_data",
          "data": {
            "image/png": "[encoded data removed]",
            "text/plain": [
              "<Figure size 432x288 with 2 Axes>"
            ]
          },
          "metadata": {
            "tags": [],
            "needs_background": "light"
          }
        }
      ]
    },
    {
      "cell_type": "code",
      "metadata": {
        "id": "MNPCdVBOvRYn",
        "colab_type": "code",
        "outputId": "b9667409-1889-4753-833f-716b409d31e3",
        "colab": {
          "base_uri": "https://localhost:8080/",
          "height": 179
        }
      },
      "source": [
        "df.main_id_locality.value_counts(),df_test.main_id_locality.value_counts()"
      ],
      "execution_count": 0,
      "outputs": [
        {
          "output_type": "execute_result",
          "data": {
            "text/plain": [
              "(22406    234476\n",
              " 338      218935\n",
              " 22394    142230\n",
              " 22402    140193\n",
              " Name: main_id_locality, dtype: int64, 1078     34922\n",
              " 22438    24241\n",
              " 22390    18013\n",
              " 22430    12762\n",
              " Name: main_id_locality, dtype: int64)"
            ]
          },
          "metadata": {
            "tags": []
          },
          "execution_count": 10
        }
      ]
    },
    {
      "cell_type": "code",
      "metadata": {
        "id": "Hr3CbVuG-zGF",
        "colab_type": "code",
        "colab": {}
      },
      "source": [
        "coords = np.vstack((df[['latitude', 'longitude']].values,\n",
        "                    df[['del_latitude', 'del_longitude']].values,\n",
        "                    df_test[['latitude', 'longitude']].values,\n",
        "                    df_test[['del_latitude', 'del_longitude']].values))\n",
        "\n",
        "pca = PCA().fit(coords)\n",
        "df['pickup_pca0'] = pca.transform(df[['latitude', 'longitude']])[:, 0]\n",
        "df['pickup_pca1'] = pca.transform(df[['latitude', 'longitude']])[:, 1]\n",
        "df['dropoff_pca0'] = pca.transform(df[['del_latitude', 'del_longitude']])[:, 0]\n",
        "df['dropoff_pca1'] = pca.transform(df[['del_latitude', 'del_longitude']])[:, 1]\n",
        "df_test['pickup_pca0'] = pca.transform(df_test[['latitude', 'longitude']])[:, 0]\n",
        "df_test['pickup_pca1'] = pca.transform(df_test[['latitude', 'longitude']])[:, 1]\n",
        "df_test['dropoff_pca0'] = pca.transform(df_test[['del_latitude', 'del_longitude']])[:, 0]\n",
        "df_test['dropoff_pca1'] = pca.transform(df_test[['del_latitude', 'del_longitude']])[:, 1]"
      ],
      "execution_count": 0,
      "outputs": []
    },
    {
      "cell_type": "code",
      "metadata": {
        "id": "VYZGKIOHwyZA",
        "colab_type": "code",
        "outputId": "0d0d2c2c-f309-45fc-b3a5-99e117e905eb",
        "colab": {
          "base_uri": "https://localhost:8080/",
          "height": 308
        }
      },
      "source": [
        "fig, ax = plt.subplots(ncols=2)\n",
        "ax[0].scatter(df['longitude'].values[:N], df['latitude'].values[:N],\n",
        "              color='blue', s=1, alpha=0.1)\n",
        "ax[1].scatter(df['pickup_pca0'].values[:N], df['pickup_pca1'].values[:N],\n",
        "              color='green', s=1, alpha=0.1)\n",
        "fig.suptitle('Pickup lat long coords and PCA transformed coords.')\n",
        "ax[0].set_ylabel('latitude')\n",
        "ax[0].set_xlabel('longitude')\n",
        "ax[1].set_xlabel('pca0')\n",
        "ax[1].set_ylabel('pca1')\n",
        "\n",
        "plt.show()"
      ],
      "execution_count": 0,
      "outputs": [
        {
          "output_type": "display_data",
          "data": {
            "image/png": "[encoded data removed]",
            "text/plain": [
              "<Figure size 432x288 with 2 Axes>"
            ]
          },
          "metadata": {
            "tags": [],
            "needs_background": "light"
          }
        }
      ]
    },
    {
      "cell_type": "code",
      "metadata": {
        "id": "6Gj0ZCb-wyrv",
        "colab_type": "code",
        "colab": {}
      },
      "source": [
        "def haversine_array(lat1, lng1, lat2, lng2):\n",
        "    lat1, lng1, lat2, lng2 = map(np.radians, (lat1, lng1, lat2, lng2))\n",
        "    AVG_EARTH_RADIUS = 6371  # in km\n",
        "    lat = lat2 - lat1\n",
        "    lng = lng2 - lng1\n",
        "    d = np.sin(lat * 0.5) ** 2 + np.cos(lat1) * np.cos(lat2) * np.sin(lng * 0.5) ** 2\n",
        "    h = 2 * AVG_EARTH_RADIUS * np.arcsin(np.sqrt(d))\n",
        "    return h\n",
        "\n",
        "def dummy_manhattan_distance(lat1, lng1, lat2, lng2):\n",
        "    a = haversine_array(lat1, lng1, lat1, lng2)\n",
        "    b = haversine_array(lat1, lng1, lat2, lng1)\n",
        "    return a + b\n",
        "\n",
        "def bearing_array(lat1, lng1, lat2, lng2):\n",
        "    AVG_EARTH_RADIUS = 6371  # in km\n",
        "    lng_delta_rad = np.radians(lng2 - lng1)\n",
        "    lat1, lng1, lat2, lng2 = map(np.radians, (lat1, lng1, lat2, lng2))\n",
        "    y = np.sin(lng_delta_rad) * np.cos(lat2)\n",
        "    x = np.cos(lat1) * np.sin(lat2) - np.sin(lat1) * np.cos(lat2) * np.cos(lng_delta_rad)\n",
        "    return np.degrees(np.arctan2(y, x))\n",
        "\n",
        "df.loc[:, 'distance_haversine'] = haversine_array(df['latitude'].values, df['longitude'].values, df['del_latitude'].values, df['del_longitude'].values)\n",
        "df.loc[:, 'distance_dummy_manhattan'] = dummy_manhattan_distance(df['latitude'].values, df['longitude'].values, df['del_latitude'].values, df['del_longitude'].values)\n",
        "df.loc[:, 'direction'] = bearing_array(df['latitude'].values, df['longitude'].values, df['del_latitude'].values, df['del_longitude'].values)\n",
        "df.loc[:, 'pca_manhattan'] = np.abs(df['dropoff_pca1'] - df['pickup_pca1']) + np.abs(df['dropoff_pca0'] - df['pickup_pca0'])\n",
        "\n",
        "df_test.loc[:, 'distance_haversine'] = haversine_array(df_test['latitude'].values, df_test['longitude'].values, df_test['del_latitude'].values, df_test['del_longitude'].values)\n",
        "df_test.loc[:, 'distance_dummy_manhattan'] = dummy_manhattan_distance(df_test['latitude'].values, df_test['longitude'].values, df_test['del_latitude'].values, df_test['del_longitude'].values)\n",
        "df_test.loc[:, 'direction'] = bearing_array(df_test['latitude'].values, df_test['longitude'].values, df_test['del_latitude'].values, df_test['del_longitude'].values)\n",
        "df_test.loc[:, 'pca_manhattan'] = np.abs(df_test['dropoff_pca1'] - df_test['pickup_pca1']) + np.abs(df_test['dropoff_pca0'] - df_test['pickup_pca0'])\n",
        "\n",
        "df.loc[:, 'center_way_latitude'] = (df['latitude'].values + df['del_latitude'].values) / 2\n",
        "df.loc[:, 'center_way_longitude'] = (df['longitude'].values + df['del_longitude'].values) / 2\n",
        "df_test.loc[:, 'center_way_latitude'] = (df_test['latitude'].values + df_test['del_latitude'].values) / 2\n",
        "df_test.loc[:, 'center_way_longitude'] = (df_test['longitude'].values + df_test['del_longitude'].values) / 2"
      ],
      "execution_count": 0,
      "outputs": []
    },
    {
      "cell_type": "code",
      "metadata": {
        "id": "qKfce43pwy0k",
        "colab_type": "code",
        "colab": {}
      },
      "source": [
        "df.loc[:, 'pickup_weekday'] = df['OrderedDate'].dt.weekday\n",
        "df.loc[:, 'pickup_hour_weekofyear'] = df['OrderedDate'].dt.weekofyear\n",
        "df.loc[:, 'pickup_hour'] = df['OrderedDate'].dt.hour\n",
        "df.loc[:, 'pickup_minute'] = df['OrderedDate'].dt.minute\n",
        "df.loc[:, 'pickup_dt'] = (df['OrderedDate'] - df['OrderedDate'].min()).dt.total_seconds()\n",
        "df.loc[:, 'pickup_week_hour'] = df['pickup_weekday'] * 24 + df['pickup_hour']\n",
        "\n",
        "df_test.loc[:, 'pickup_weekday'] = df_test['OrderedDate'].dt.weekday\n",
        "df_test.loc[:, 'pickup_hour_weekofyear'] = df_test['OrderedDate'].dt.weekofyear\n",
        "df_test.loc[:, 'pickup_hour'] = df_test['OrderedDate'].dt.hour\n",
        "df_test.loc[:, 'pickup_minute'] = df_test['OrderedDate'].dt.minute\n",
        "df_test.loc[:, 'pickup_dt'] = (df_test['OrderedDate'] - df_test['OrderedDate'].min()).dt.total_seconds()\n",
        "df_test.loc[:, 'pickup_week_hour'] = df_test['pickup_weekday'] * 24 + df_test['pickup_hour']"
      ],
      "execution_count": 0,
      "outputs": []
    },
    {
      "cell_type": "code",
      "metadata": {
        "id": "zJoJT1Z5wzEo",
        "colab_type": "code",
        "outputId": "c2290bf7-b57f-48cc-d230-99ce94b96c6f",
        "colab": {
          "base_uri": "https://localhost:8080/",
          "height": 308
        }
      },
      "source": [
        "df.loc[:, 'avg_speed_h'] = 1000 * df['distance_haversine'] / df['RTA']\n",
        "df.loc[:, 'avg_speed_m'] = 1000 * df['distance_dummy_manhattan'] / df['RTA']\n",
        "fig, ax = plt.subplots(ncols=3, sharey=True)\n",
        "ax[0].plot(df.groupby('pickup_hour').mean()['avg_speed_h'], 'bo-', lw=2, alpha=0.7)\n",
        "ax[1].plot(df.groupby('pickup_weekday').mean()['avg_speed_h'], 'go-', lw=2, alpha=0.7)\n",
        "ax[2].plot(df.groupby('pickup_week_hour').mean()['avg_speed_h'], 'ro-', lw=2, alpha=0.7)\n",
        "ax[0].set_xlabel('hour')\n",
        "ax[1].set_xlabel('weekday')\n",
        "ax[2].set_xlabel('weekhour')\n",
        "ax[0].set_ylabel('average speed')\n",
        "fig.suptitle('Rush hour average traffic speed')\n",
        "plt.show()"
      ],
      "execution_count": 0,
      "outputs": [
        {
          "output_type": "display_data",
          "data": {
            "image/png": "[encoded data removed]",
            "text/plain": [
              "<Figure size 432x288 with 3 Axes>"
            ]
          },
          "metadata": {
            "tags": [],
            "needs_background": "light"
          }
        }
      ]
    },
    {
      "cell_type": "code",
      "metadata": {
        "id": "CezN1oK2wzfq",
        "colab_type": "code",
        "colab": {}
      },
      "source": [
        "columns_to_train = df_test.columns.drop(['OrderedDate'])"
      ],
      "execution_count": 0,
      "outputs": []
    },
    {
      "cell_type": "code",
      "metadata": {
        "id": "21h5NjRnwzXn",
        "colab_type": "code",
        "colab": {}
      },
      "source": [
        "X = df[columns_to_train]\n",
        "y = np.log(df['RTA'])"
      ],
      "execution_count": 0,
      "outputs": []
    },
    {
      "cell_type": "code",
      "metadata": {
        "id": "KfwGeIhvwzSZ",
        "colab_type": "code",
        "outputId": "a3b8351b-87f3-4772-82e6-c267d4314050",
        "colab": {
          "base_uri": "https://localhost:8080/",
          "height": 161
        }
      },
      "source": [
        "X.columns"
      ],
      "execution_count": 0,
      "outputs": [
        {
          "output_type": "execute_result",
          "data": {
            "text/plain": [
              "Index(['main_id_locality', 'ETA', 'latitude', 'del_latitude', 'longitude',\n",
              "       'del_longitude', 'EDA', 'center_latitude', 'center_longitude',\n",
              "       'pickup_pca0', 'pickup_pca1', 'dropoff_pca0', 'dropoff_pca1',\n",
              "       'distance_haversine', 'distance_dummy_manhattan', 'direction',\n",
              "       'pca_manhattan', 'center_way_latitude', 'center_way_longitude',\n",
              "       'pickup_weekday', 'pickup_hour_weekofyear', 'pickup_hour',\n",
              "       'pickup_minute', 'pickup_dt', 'pickup_week_hour'],\n",
              "      dtype='object')"
            ]
          },
          "metadata": {
            "tags": []
          },
          "execution_count": 18
        }
      ]
    },
    {
      "cell_type": "markdown",
      "metadata": {
        "id": "W3CIOa60_jdP",
        "colab_type": "text"
      },
      "source": [
        "# EDA"
      ]
    },
    {
      "cell_type": "code",
      "metadata": {
        "id": "OnSG9q1aZVmu",
        "colab_type": "code",
        "outputId": "1772ffaf-c0e5-49e5-fc56-f450f4f49eac",
        "colab": {
          "base_uri": "https://localhost:8080/",
          "height": 35
        }
      },
      "source": [
        "distances = []\n",
        "for points in tqdm(list(zip(df['StartPoint'].values,df['EndPoint'].values))):\n",
        "  distances.append(geodesic(points[0],points[1]).kilometers)\n",
        "\n",
        "df['Distance'] = distances"
      ],
      "execution_count": 0,
      "outputs": [
        {
          "output_type": "stream",
          "text": [
            "100%|██████████| 735834/735834 [02:23<00:00, 5135.45it/s]\n"
          ],
          "name": "stderr"
        }
      ]
    },
    {
      "cell_type": "code",
      "metadata": {
        "id": "28qsY065-_Dx",
        "colab_type": "code",
        "colab": {}
      },
      "source": [
        "df['RDA/EDA'] = df['RDA']/df['EDA']\n",
        "df['RTA/ETA'] = df['RTA']/df['ETA']\n",
        "df['Rerun_coeff'] = df['RDA']/df['Distance']"
      ],
      "execution_count": 0,
      "outputs": []
    },
    {
      "cell_type": "code",
      "metadata": {
        "id": "KK3Wi21_DRMR",
        "colab_type": "code",
        "colab": {}
      },
      "source": [
        "df['route_decoded'] = df.route.apply(lambda x: pll.decode(x))\n",
        "df['route_len'] = df.route_decoded.apply(lambda x: len(x))"
      ],
      "execution_count": 0,
      "outputs": []
    },
    {
      "cell_type": "code",
      "metadata": {
        "id": "NyI_Aywkfrqm",
        "colab_type": "code",
        "outputId": "48ff41e8-f4bf-4717-f30d-c0adc5d2c3e3",
        "colab": {
          "base_uri": "https://localhost:8080/",
          "height": 53
        }
      },
      "source": [
        "df['AverageSpeed'] = df['EDA']/(df.ETA/60)\n",
        "df['Weekday'] = df.OrderedDate.dt.weekday\n",
        "df['DayHour'] = df.OrderedDate.dt.hour\n",
        "\n",
        "distances = []\n",
        "for points in tqdm(list(zip(df['StartPoint'].values,df['CenterPoint'].values))):\n",
        "  distances.append(geodesic(points[0],points[1]).kilometers)\n",
        "\n",
        "df['DistFromStartToCenter'] = distances\n",
        "\n",
        "distances = []\n",
        "for points in tqdm(list(zip(df['EndPoint'].values,df['CenterPoint'].values))):\n",
        "  distances.append(geodesic(points[0],points[1]).kilometers)\n",
        "\n",
        "df['DistFromEndToCenter'] = distances"
      ],
      "execution_count": 0,
      "outputs": [
        {
          "output_type": "stream",
          "text": [
            "100%|██████████| 735834/735834 [02:23<00:00, 5133.52it/s]\n",
            "100%|██████████| 735834/735834 [02:26<00:00, 5021.28it/s]\n"
          ],
          "name": "stderr"
        }
      ]
    },
    {
      "cell_type": "code",
      "metadata": {
        "id": "gCmicnJmNjs-",
        "colab_type": "code",
        "outputId": "58b640d9-e860-4d9e-fd54-4980d641843a",
        "colab": {
          "base_uri": "https://localhost:8080/",
          "height": 35
        }
      },
      "source": [
        "distances = []\n",
        "for points in tqdm(list(zip(df['OnWayPoint'].values,df['ReadyPoint'].values))):\n",
        "  distances.append(geodesic(points[0],points[1]).kilometers)\n",
        "\n",
        "df['DriverButtonFuckUp'] = distances"
      ],
      "execution_count": 0,
      "outputs": [
        {
          "output_type": "stream",
          "text": [
            "100%|██████████| 735834/735834 [01:56<00:00, 6331.82it/s]\n"
          ],
          "name": "stderr"
        }
      ]
    },
    {
      "cell_type": "markdown",
      "metadata": {
        "id": "l4X5lCPWFB-6",
        "colab_type": "text"
      },
      "source": [
        "**BoxPlots**"
      ]
    },
    {
      "cell_type": "code",
      "metadata": {
        "id": "9eyn0LKTNhwI",
        "colab_type": "code",
        "colab": {}
      },
      "source": [
        "explore_columns = ['RTA','ETA','RDA','EDA','RDA/EDA','RTA/ETA','route_len','Rerun_coeff','DriverButtonFuckUp']"
      ],
      "execution_count": 0,
      "outputs": []
    },
    {
      "cell_type": "code",
      "metadata": {
        "id": "ROJznb9EGx-k",
        "colab_type": "code",
        "outputId": "e91ea610-0094-472b-cdf1-a963c77b4c52",
        "colab": {
          "base_uri": "https://localhost:8080/",
          "height": 622
        }
      },
      "source": [
        "f, axes = plt.subplots(2, 5, sharey=False, figsize=(15, 10))\n",
        "\n",
        "sns.boxplot(df.RTA,ax=axes[0,0])\n",
        "sns.boxplot(df.ETA,ax=axes[0,1])\n",
        "sns.boxplot(df.RDA,ax=axes[0,2])\n",
        "sns.boxplot(df.EDA,ax=axes[0,3])\n",
        "sns.boxplot(df['RDA/EDA'],ax=axes[0,4])\n",
        "sns.boxplot(df['RTA/ETA'],ax=axes[1,0])\n",
        "sns.boxplot(df.route_len,ax=axes[1,1])\n",
        "sns.boxplot(df.Rerun_coeff,ax=axes[1,2])\n",
        "sns.boxplot(df.DriverButtonFuckUp,ax=axes[1,3])\n",
        "\n",
        "axes[0,0].title.set_text('RTA')\n",
        "axes[0,1].title.set_text('ETA')\n",
        "axes[0,2].title.set_text('RDA')\n",
        "axes[0,3].title.set_text('EDA')\n",
        "axes[0,4].title.set_text('RDA/EDA')\n",
        "axes[1,0].title.set_text('RTA/ETA')\n",
        "axes[1,1].title.set_text('Route length')\n",
        "axes[1,2].title.set_text('Rerun coeff')\n",
        "axes[1,3].title.set_text('DriverButtonFuckUp')"
      ],
      "execution_count": 0,
      "outputs": [
        {
          "output_type": "display_data",
          "data": {
            "image/png": "[encoded data removed]",
            "text/plain": [
              "<Figure size 1080x720 with 10 Axes>"
            ]
          },
          "metadata": {
            "tags": [],
            "needs_background": "light"
          }
        }
      ]
    },
    {
      "cell_type": "code",
      "metadata": {
        "id": "zDcLkhKx-eba",
        "colab_type": "code",
        "outputId": "a323ff97-477c-4145-ff7d-213e20d075d8",
        "colab": {
          "base_uri": "https://localhost:8080/",
          "height": 658
        }
      },
      "source": [
        "f, axes = plt.subplots(2, 5, sharey=False, figsize=(15, 10))\n",
        "\n",
        "sns.boxplot(np.log(df.RTA),ax=axes[0,0])\n",
        "sns.boxplot(np.log(df.ETA)/df.ETA.std(),ax=axes[0,1])\n",
        "sns.boxplot(np.log(df.RDA),ax=axes[0,2])\n",
        "sns.boxplot(np.sqrt(np.log(df.EDA)),ax=axes[0,3])\n",
        "sns.boxplot(np.log(df['RDA/EDA']),ax=axes[0,4])\n",
        "sns.boxplot(np.log(df['RTA/ETA']),ax=axes[1,0])\n",
        "sns.boxplot(np.log(df.route_len),ax=axes[1,1])\n",
        "sns.boxplot(np.log(df.Rerun_coeff),ax=axes[1,2])\n",
        "sns.boxplot(np.log(df.DriverButtonFuckUp),ax=axes[1,3])\n",
        "\n",
        "axes[0,0].title.set_text('RTA')\n",
        "axes[0,1].title.set_text('ETA')\n",
        "axes[0,2].title.set_text('RDA')\n",
        "axes[0,3].title.set_text('EDA')\n",
        "axes[0,4].title.set_text('RDA/EDA')\n",
        "axes[1,0].title.set_text('RTA/ETA')\n",
        "axes[1,1].title.set_text('Route length')\n",
        "axes[1,2].title.set_text('Rerun coeff')\n",
        "axes[1,3].title.set_text('DriverButtonFuckUp')"
      ],
      "execution_count": 0,
      "outputs": [
        {
          "output_type": "stream",
          "text": [
            "/usr/local/lib/python3.6/dist-packages/pandas/core/series.py:679: RuntimeWarning: divide by zero encountered in log\n",
            "  result = getattr(ufunc, method)(*inputs, **kwargs)\n"
          ],
          "name": "stderr"
        },
        {
          "output_type": "display_data",
          "data": {
            "image/png": "[encoded data removed]",
            "text/plain": [
              "<Figure size 1080x720 with 10 Axes>"
            ]
          },
          "metadata": {
            "tags": [],
            "needs_background": "light"
          }
        }
      ]
    },
    {
      "cell_type": "code",
      "metadata": {
        "id": "OgUDFQFwL-Ft",
        "colab_type": "code",
        "outputId": "1b685bd5-e842-4788-f6ec-f8bf9972a999",
        "colab": {
          "base_uri": "https://localhost:8080/",
          "height": 215
        }
      },
      "source": [
        "for col in explore_columns:\n",
        "  print(col,':',len(boxplot_stats(np.log(df[col]))[0]['fliers']),',min:', min(boxplot_stats(df[col])[0]['fliers']),',max:',max(boxplot_stats(df[col])[0]['fliers']))"
      ],
      "execution_count": 0,
      "outputs": [
        {
          "output_type": "stream",
          "text": [
            "RTA : 1374 ,min: 2092.0 ,max: 10042.0\n",
            "ETA : 2189 ,min: 2437.0 ,max: 12182.0\n",
            "RDA : 2401 ,min: 14.0 ,max: 145.0\n",
            "EDA : 1240 ,min: 16.0 ,max: 208.0\n",
            "RDA/EDA : 145667 ,min: 0.014705882352941176 ,max: 21.0\n",
            "RTA/ETA : 13843 ,min: 1.3573806881243062 ,max: 1.9992019154030327\n",
            "route_len : 2649 ,min: 201 ,max: 1179\n",
            "Rerun_coeff : 62085 ,min: 0.018518062915213393 ,max: 376.9862257497148\n",
            "DriverButtonFuckUp : 126715 ,min: 0.13501328485620076 ,max: 10.93771266656333\n"
          ],
          "name": "stdout"
        },
        {
          "output_type": "stream",
          "text": [
            "/usr/local/lib/python3.6/dist-packages/pandas/core/series.py:679: RuntimeWarning: divide by zero encountered in log\n",
            "  result = getattr(ufunc, method)(*inputs, **kwargs)\n"
          ],
          "name": "stderr"
        }
      ]
    },
    {
      "cell_type": "markdown",
      "metadata": {
        "id": "S7wykICBIJcj",
        "colab_type": "text"
      },
      "source": [
        "**Distplots**"
      ]
    },
    {
      "cell_type": "code",
      "metadata": {
        "id": "oz1sSuA5FICw",
        "colab_type": "code",
        "outputId": "91798240-bf58-4d7d-d83e-bf83935d7816",
        "colab": {
          "base_uri": "https://localhost:8080/",
          "height": 1000
        }
      },
      "source": [
        "f, axes = plt.subplots(2, 5, sharey=False, figsize=(15, 10))\n",
        "\n",
        "sns.distplot(np.log(df.EDA),ax=axes[0,0])\n",
        "sns.distplot(np.log(df.RDA),ax=axes[0,1])\n",
        "sns.distplot(np.log(df.RTA),ax=axes[0,2])\n",
        "sns.distplot(np.sqrt(np.log(df.ETA)),ax=axes[0,3])\n",
        "sns.distplot(np.log(df['RDA/EDA']),ax=axes[0,4])\n",
        "sns.distplot(np.log(df['RTA/ETA']),ax=axes[1,0])\n",
        "sns.distplot(np.log(df.route_len),ax=axes[1,1])\n",
        "sns.distplot(np.log(df.Rerun_coeff),ax=axes[1,2])\n",
        "sns.distplot(np.log(df.DriverButtonFuckUp),ax=axes[1,3])\n",
        "\n",
        "axes[0,0].title.set_text('EDA')\n",
        "axes[0,1].title.set_text('RDA')\n",
        "axes[0,2].title.set_text('RTA')\n",
        "axes[0,3].title.set_text('ETA')\n",
        "axes[0,4].title.set_text('RDA/EDA')\n",
        "axes[1,0].title.set_text('RTA/ETA')\n",
        "axes[1,1].title.set_text('Route length')\n",
        "axes[1,2].title.set_text('Rerun coeff')\n",
        "axes[1,3].title.set_text('DriverButtonFuckUp')"
      ],
      "execution_count": 0,
      "outputs": [
        {
          "output_type": "stream",
          "text": [
            "/usr/local/lib/python3.6/dist-packages/pandas/core/series.py:679: RuntimeWarning: divide by zero encountered in log\n",
            "  result = getattr(ufunc, method)(*inputs, **kwargs)\n"
          ],
          "name": "stderr"
        },
        {
          "output_type": "error",
          "ename": "OverflowError",
          "evalue": "ignored",
          "traceback": [
            "\u001b[0;31m---------------------------------------------------------------------------\u001b[0m",
            "\u001b[0;31mOverflowError\u001b[0m                             Traceback (most recent call last)",
            "\u001b[0;32m<ipython-input-28-1b0fb868bf98>\u001b[0m in \u001b[0;36m<module>\u001b[0;34m()\u001b[0m\n\u001b[1;32m      9\u001b[0m \u001b[0msns\u001b[0m\u001b[0;34m.\u001b[0m\u001b[0mdistplot\u001b[0m\u001b[0;34m(\u001b[0m\u001b[0mnp\u001b[0m\u001b[0;34m.\u001b[0m\u001b[0mlog\u001b[0m\u001b[0;34m(\u001b[0m\u001b[0mdf\u001b[0m\u001b[0;34m.\u001b[0m\u001b[0mroute_len\u001b[0m\u001b[0;34m)\u001b[0m\u001b[0;34m,\u001b[0m\u001b[0max\u001b[0m\u001b[0;34m=\u001b[0m\u001b[0maxes\u001b[0m\u001b[0;34m[\u001b[0m\u001b[0;36m1\u001b[0m\u001b[0;34m,\u001b[0m\u001b[0;36m1\u001b[0m\u001b[0;34m]\u001b[0m\u001b[0;34m)\u001b[0m\u001b[0;34m\u001b[0m\u001b[0;34m\u001b[0m\u001b[0m\n\u001b[1;32m     10\u001b[0m \u001b[0msns\u001b[0m\u001b[0;34m.\u001b[0m\u001b[0mdistplot\u001b[0m\u001b[0;34m(\u001b[0m\u001b[0mnp\u001b[0m\u001b[0;34m.\u001b[0m\u001b[0mlog\u001b[0m\u001b[0;34m(\u001b[0m\u001b[0mdf\u001b[0m\u001b[0;34m.\u001b[0m\u001b[0mRerun_coeff\u001b[0m\u001b[0;34m)\u001b[0m\u001b[0;34m,\u001b[0m\u001b[0max\u001b[0m\u001b[0;34m=\u001b[0m\u001b[0maxes\u001b[0m\u001b[0;34m[\u001b[0m\u001b[0;36m1\u001b[0m\u001b[0;34m,\u001b[0m\u001b[0;36m2\u001b[0m\u001b[0;34m]\u001b[0m\u001b[0;34m)\u001b[0m\u001b[0;34m\u001b[0m\u001b[0;34m\u001b[0m\u001b[0m\n\u001b[0;32m---> 11\u001b[0;31m \u001b[0msns\u001b[0m\u001b[0;34m.\u001b[0m\u001b[0mdistplot\u001b[0m\u001b[0;34m(\u001b[0m\u001b[0mnp\u001b[0m\u001b[0;34m.\u001b[0m\u001b[0mlog\u001b[0m\u001b[0;34m(\u001b[0m\u001b[0mdf\u001b[0m\u001b[0;34m.\u001b[0m\u001b[0mDriverButtonFuckUp\u001b[0m\u001b[0;34m)\u001b[0m\u001b[0;34m,\u001b[0m\u001b[0max\u001b[0m\u001b[0;34m=\u001b[0m\u001b[0maxes\u001b[0m\u001b[0;34m[\u001b[0m\u001b[0;36m1\u001b[0m\u001b[0;34m,\u001b[0m\u001b[0;36m3\u001b[0m\u001b[0;34m]\u001b[0m\u001b[0;34m)\u001b[0m\u001b[0;34m\u001b[0m\u001b[0;34m\u001b[0m\u001b[0m\n\u001b[0m\u001b[1;32m     12\u001b[0m \u001b[0;34m\u001b[0m\u001b[0m\n\u001b[1;32m     13\u001b[0m \u001b[0maxes\u001b[0m\u001b[0;34m[\u001b[0m\u001b[0;36m0\u001b[0m\u001b[0;34m,\u001b[0m\u001b[0;36m0\u001b[0m\u001b[0;34m]\u001b[0m\u001b[0;34m.\u001b[0m\u001b[0mtitle\u001b[0m\u001b[0;34m.\u001b[0m\u001b[0mset_text\u001b[0m\u001b[0;34m(\u001b[0m\u001b[0;34m'EDA'\u001b[0m\u001b[0;34m)\u001b[0m\u001b[0;34m\u001b[0m\u001b[0;34m\u001b[0m\u001b[0m\n",
            "\u001b[0;32m/usr/local/lib/python3.6/dist-packages/seaborn/distributions.py\u001b[0m in \u001b[0;36mdistplot\u001b[0;34m(a, bins, hist, kde, rug, fit, hist_kws, kde_kws, rug_kws, fit_kws, color, vertical, norm_hist, axlabel, label, ax)\u001b[0m\n\u001b[1;32m    215\u001b[0m     \u001b[0;32mif\u001b[0m \u001b[0mhist\u001b[0m\u001b[0;34m:\u001b[0m\u001b[0;34m\u001b[0m\u001b[0;34m\u001b[0m\u001b[0m\n\u001b[1;32m    216\u001b[0m         \u001b[0;32mif\u001b[0m \u001b[0mbins\u001b[0m \u001b[0;32mis\u001b[0m \u001b[0;32mNone\u001b[0m\u001b[0;34m:\u001b[0m\u001b[0;34m\u001b[0m\u001b[0;34m\u001b[0m\u001b[0m\n\u001b[0;32m--> 217\u001b[0;31m             \u001b[0mbins\u001b[0m \u001b[0;34m=\u001b[0m \u001b[0mmin\u001b[0m\u001b[0;34m(\u001b[0m\u001b[0m_freedman_diaconis_bins\u001b[0m\u001b[0;34m(\u001b[0m\u001b[0ma\u001b[0m\u001b[0;34m)\u001b[0m\u001b[0;34m,\u001b[0m \u001b[0;36m50\u001b[0m\u001b[0;34m)\u001b[0m\u001b[0;34m\u001b[0m\u001b[0;34m\u001b[0m\u001b[0m\n\u001b[0m\u001b[1;32m    218\u001b[0m         \u001b[0mhist_kws\u001b[0m\u001b[0;34m.\u001b[0m\u001b[0msetdefault\u001b[0m\u001b[0;34m(\u001b[0m\u001b[0;34m\"alpha\"\u001b[0m\u001b[0;34m,\u001b[0m \u001b[0;36m0.4\u001b[0m\u001b[0;34m)\u001b[0m\u001b[0;34m\u001b[0m\u001b[0;34m\u001b[0m\u001b[0m\n\u001b[1;32m    219\u001b[0m         \u001b[0;32mif\u001b[0m \u001b[0mLooseVersion\u001b[0m\u001b[0;34m(\u001b[0m\u001b[0mmpl\u001b[0m\u001b[0;34m.\u001b[0m\u001b[0m__version__\u001b[0m\u001b[0;34m)\u001b[0m \u001b[0;34m<\u001b[0m \u001b[0mLooseVersion\u001b[0m\u001b[0;34m(\u001b[0m\u001b[0;34m\"2.2\"\u001b[0m\u001b[0;34m)\u001b[0m\u001b[0;34m:\u001b[0m\u001b[0;34m\u001b[0m\u001b[0;34m\u001b[0m\u001b[0m\n",
            "\u001b[0;32m/usr/local/lib/python3.6/dist-packages/seaborn/distributions.py\u001b[0m in \u001b[0;36m_freedman_diaconis_bins\u001b[0;34m(a)\u001b[0m\n\u001b[1;32m     35\u001b[0m         \u001b[0;32mreturn\u001b[0m \u001b[0mint\u001b[0m\u001b[0;34m(\u001b[0m\u001b[0mnp\u001b[0m\u001b[0;34m.\u001b[0m\u001b[0msqrt\u001b[0m\u001b[0;34m(\u001b[0m\u001b[0ma\u001b[0m\u001b[0;34m.\u001b[0m\u001b[0msize\u001b[0m\u001b[0;34m)\u001b[0m\u001b[0;34m)\u001b[0m\u001b[0;34m\u001b[0m\u001b[0;34m\u001b[0m\u001b[0m\n\u001b[1;32m     36\u001b[0m     \u001b[0;32melse\u001b[0m\u001b[0;34m:\u001b[0m\u001b[0;34m\u001b[0m\u001b[0;34m\u001b[0m\u001b[0m\n\u001b[0;32m---> 37\u001b[0;31m         \u001b[0;32mreturn\u001b[0m \u001b[0mint\u001b[0m\u001b[0;34m(\u001b[0m\u001b[0mnp\u001b[0m\u001b[0;34m.\u001b[0m\u001b[0mceil\u001b[0m\u001b[0;34m(\u001b[0m\u001b[0;34m(\u001b[0m\u001b[0ma\u001b[0m\u001b[0;34m.\u001b[0m\u001b[0mmax\u001b[0m\u001b[0;34m(\u001b[0m\u001b[0;34m)\u001b[0m \u001b[0;34m-\u001b[0m \u001b[0ma\u001b[0m\u001b[0;34m.\u001b[0m\u001b[0mmin\u001b[0m\u001b[0;34m(\u001b[0m\u001b[0;34m)\u001b[0m\u001b[0;34m)\u001b[0m \u001b[0;34m/\u001b[0m \u001b[0mh\u001b[0m\u001b[0;34m)\u001b[0m\u001b[0;34m)\u001b[0m\u001b[0;34m\u001b[0m\u001b[0;34m\u001b[0m\u001b[0m\n\u001b[0m\u001b[1;32m     38\u001b[0m \u001b[0;34m\u001b[0m\u001b[0m\n\u001b[1;32m     39\u001b[0m \u001b[0;34m\u001b[0m\u001b[0m\n",
            "\u001b[0;31mOverflowError\u001b[0m: cannot convert float infinity to integer"
          ]
        },
        {
          "output_type": "display_data",
          "data": {
            "image/png": "[encoded data removed]",
            "text/plain": [
              "<Figure size 1080x720 with 10 Axes>"
            ]
          },
          "metadata": {
            "tags": [],
            "needs_background": "light"
          }
        }
      ]
    },
    {
      "cell_type": "markdown",
      "metadata": {
        "id": "0yQCJJylhKqE",
        "colab_type": "text"
      },
      "source": [
        "# Training Model"
      ]
    },
    {
      "cell_type": "code",
      "metadata": {
        "id": "3SiHjFP9BsAR",
        "colab_type": "code",
        "colab": {}
      },
      "source": [
        "from sklearn.model_selection import cross_val_score, train_test_split, KFold"
      ],
      "execution_count": 0,
      "outputs": []
    },
    {
      "cell_type": "markdown",
      "metadata": {
        "id": "KNyGGOA0_sPC",
        "colab_type": "text"
      },
      "source": [
        "# LightGBM"
      ]
    },
    {
      "cell_type": "code",
      "metadata": {
        "id": "V4RoK_qyubTV",
        "colab_type": "code",
        "colab": {}
      },
      "source": [
        "from lightgbm import LGBMRegressor"
      ],
      "execution_count": 0,
      "outputs": []
    },
    {
      "cell_type": "code",
      "metadata": {
        "id": "DvaDYE8hubWA",
        "colab_type": "code",
        "colab": {}
      },
      "source": [
        "LGBMR = LGBMRegressor(random_state=42,n_estimators=200,boosting_type='gbdt')"
      ],
      "execution_count": 0,
      "outputs": []
    },
    {
      "cell_type": "code",
      "metadata": {
        "id": "IE076KPjubZQ",
        "colab_type": "code",
        "colab": {}
      },
      "source": [
        "X_train, X_valid, y_train, y_valid = train_test_split(X,y,test_size=0.3,shuffle=True)"
      ],
      "execution_count": 0,
      "outputs": []
    },
    {
      "cell_type": "code",
      "metadata": {
        "id": "VZzKQxVBubge",
        "colab_type": "code",
        "outputId": "0f8bf3a3-2e4e-40a4-9a01-39f5a4867194",
        "colab": {
          "base_uri": "https://localhost:8080/",
          "height": 125
        }
      },
      "source": [
        "LGBMR.fit(X_train,y_train)"
      ],
      "execution_count": 0,
      "outputs": [
        {
          "output_type": "execute_result",
          "data": {
            "text/plain": [
              "LGBMRegressor(boosting_type='gbdt', class_weight=None, colsample_bytree=1.0,\n",
              "              importance_type='split', learning_rate=0.1, max_depth=-1,\n",
              "              min_child_samples=20, min_child_weight=0.001, min_split_gain=0.0,\n",
              "              n_estimators=200, n_jobs=-1, num_leaves=31, objective=None,\n",
              "              random_state=42, reg_alpha=0.0, reg_lambda=0.0, silent=True,\n",
              "              subsample=1.0, subsample_for_bin=200000, subsample_freq=0)"
            ]
          },
          "metadata": {
            "tags": []
          },
          "execution_count": 33
        }
      ]
    },
    {
      "cell_type": "markdown",
      "metadata": {
        "id": "O3q7uKeahPSf",
        "colab_type": "text"
      },
      "source": [
        "# Model Validation"
      ]
    },
    {
      "cell_type": "code",
      "metadata": {
        "id": "46LAnIdxulUT",
        "colab_type": "code",
        "colab": {}
      },
      "source": [
        "def mape(true,pred):\n",
        "  y_true, y_pred = np.array(true.values), pred\n",
        "  return np.mean(np.abs((y_true - y_pred) / y_true)) * 100\n",
        "\n",
        "def mape_CV(estimator,X,y):\n",
        "  prediction = estimator.predict(X)\n",
        "  return mape(y,prediction)  "
      ],
      "execution_count": 0,
      "outputs": []
    },
    {
      "cell_type": "code",
      "metadata": {
        "id": "5y0hBwgNRJXl",
        "colab_type": "code",
        "outputId": "03f56285-10a0-4bec-bf15-aa810985e985",
        "colab": {
          "base_uri": "https://localhost:8080/",
          "height": 35
        }
      },
      "source": [
        "prediction_valid = LGBMR.predict(X_valid)\n",
        "\n",
        "mape(np.exp(y_valid),np.exp(prediction_valid))"
      ],
      "execution_count": 0,
      "outputs": [
        {
          "output_type": "execute_result",
          "data": {
            "text/plain": [
              "15.325795986231777"
            ]
          },
          "metadata": {
            "tags": []
          },
          "execution_count": 35
        }
      ]
    },
    {
      "cell_type": "code",
      "metadata": {
        "id": "YTqhPicgRJU-",
        "colab_type": "code",
        "outputId": "5f714d9d-5e17-4800-f823-b60c38cf4610",
        "colab": {
          "base_uri": "https://localhost:8080/",
          "height": 824
        }
      },
      "source": [
        "f1 = pd.DataFrame({'f': list(columns_to_train),\n",
        "                   'importance': LGBMR.feature_importances_})\n",
        "f1.sort_values(by='importance')"
      ],
      "execution_count": 0,
      "outputs": [
        {
          "output_type": "execute_result",
          "data": {
            "text/html": [
              "<div>\n",
              "<style scoped>\n",
              "    .dataframe tbody tr th:only-of-type {\n",
              "        vertical-align: middle;\n",
              "    }\n",
              "\n",
              "    .dataframe tbody tr th {\n",
              "        vertical-align: top;\n",
              "    }\n",
              "\n",
              "    .dataframe thead th {\n",
              "        text-align: right;\n",
              "    }\n",
              "</style>\n",
              "<table border=\"1\" class=\"dataframe\">\n",
              "  <thead>\n",
              "    <tr style=\"text-align: right;\">\n",
              "      <th></th>\n",
              "      <th>f</th>\n",
              "      <th>importance</th>\n",
              "    </tr>\n",
              "  </thead>\n",
              "  <tbody>\n",
              "    <tr>\n",
              "      <th>0</th>\n",
              "      <td>main_id_locality</td>\n",
              "      <td>0</td>\n",
              "    </tr>\n",
              "    <tr>\n",
              "      <th>8</th>\n",
              "      <td>center_longitude</td>\n",
              "      <td>0</td>\n",
              "    </tr>\n",
              "    <tr>\n",
              "      <th>7</th>\n",
              "      <td>center_latitude</td>\n",
              "      <td>0</td>\n",
              "    </tr>\n",
              "    <tr>\n",
              "      <th>20</th>\n",
              "      <td>pickup_hour_weekofyear</td>\n",
              "      <td>30</td>\n",
              "    </tr>\n",
              "    <tr>\n",
              "      <th>16</th>\n",
              "      <td>pca_manhattan</td>\n",
              "      <td>70</td>\n",
              "    </tr>\n",
              "    <tr>\n",
              "      <th>13</th>\n",
              "      <td>distance_haversine</td>\n",
              "      <td>97</td>\n",
              "    </tr>\n",
              "    <tr>\n",
              "      <th>14</th>\n",
              "      <td>distance_dummy_manhattan</td>\n",
              "      <td>100</td>\n",
              "    </tr>\n",
              "    <tr>\n",
              "      <th>19</th>\n",
              "      <td>pickup_weekday</td>\n",
              "      <td>110</td>\n",
              "    </tr>\n",
              "    <tr>\n",
              "      <th>15</th>\n",
              "      <td>direction</td>\n",
              "      <td>129</td>\n",
              "    </tr>\n",
              "    <tr>\n",
              "      <th>22</th>\n",
              "      <td>pickup_minute</td>\n",
              "      <td>145</td>\n",
              "    </tr>\n",
              "    <tr>\n",
              "      <th>5</th>\n",
              "      <td>del_longitude</td>\n",
              "      <td>165</td>\n",
              "    </tr>\n",
              "    <tr>\n",
              "      <th>23</th>\n",
              "      <td>pickup_dt</td>\n",
              "      <td>197</td>\n",
              "    </tr>\n",
              "    <tr>\n",
              "      <th>11</th>\n",
              "      <td>dropoff_pca0</td>\n",
              "      <td>203</td>\n",
              "    </tr>\n",
              "    <tr>\n",
              "      <th>4</th>\n",
              "      <td>longitude</td>\n",
              "      <td>209</td>\n",
              "    </tr>\n",
              "    <tr>\n",
              "      <th>9</th>\n",
              "      <td>pickup_pca0</td>\n",
              "      <td>257</td>\n",
              "    </tr>\n",
              "    <tr>\n",
              "      <th>17</th>\n",
              "      <td>center_way_latitude</td>\n",
              "      <td>267</td>\n",
              "    </tr>\n",
              "    <tr>\n",
              "      <th>6</th>\n",
              "      <td>EDA</td>\n",
              "      <td>278</td>\n",
              "    </tr>\n",
              "    <tr>\n",
              "      <th>2</th>\n",
              "      <td>latitude</td>\n",
              "      <td>304</td>\n",
              "    </tr>\n",
              "    <tr>\n",
              "      <th>3</th>\n",
              "      <td>del_latitude</td>\n",
              "      <td>308</td>\n",
              "    </tr>\n",
              "    <tr>\n",
              "      <th>24</th>\n",
              "      <td>pickup_week_hour</td>\n",
              "      <td>334</td>\n",
              "    </tr>\n",
              "    <tr>\n",
              "      <th>18</th>\n",
              "      <td>center_way_longitude</td>\n",
              "      <td>340</td>\n",
              "    </tr>\n",
              "    <tr>\n",
              "      <th>10</th>\n",
              "      <td>pickup_pca1</td>\n",
              "      <td>351</td>\n",
              "    </tr>\n",
              "    <tr>\n",
              "      <th>12</th>\n",
              "      <td>dropoff_pca1</td>\n",
              "      <td>363</td>\n",
              "    </tr>\n",
              "    <tr>\n",
              "      <th>1</th>\n",
              "      <td>ETA</td>\n",
              "      <td>595</td>\n",
              "    </tr>\n",
              "    <tr>\n",
              "      <th>21</th>\n",
              "      <td>pickup_hour</td>\n",
              "      <td>1148</td>\n",
              "    </tr>\n",
              "  </tbody>\n",
              "</table>\n",
              "</div>"
            ],
            "text/plain": [
              "                           f  importance\n",
              "0           main_id_locality           0\n",
              "8           center_longitude           0\n",
              "7            center_latitude           0\n",
              "20    pickup_hour_weekofyear          30\n",
              "16             pca_manhattan          70\n",
              "13        distance_haversine          97\n",
              "14  distance_dummy_manhattan         100\n",
              "19            pickup_weekday         110\n",
              "15                 direction         129\n",
              "22             pickup_minute         145\n",
              "5              del_longitude         165\n",
              "23                 pickup_dt         197\n",
              "11              dropoff_pca0         203\n",
              "4                  longitude         209\n",
              "9                pickup_pca0         257\n",
              "17       center_way_latitude         267\n",
              "6                        EDA         278\n",
              "2                   latitude         304\n",
              "3               del_latitude         308\n",
              "24          pickup_week_hour         334\n",
              "18      center_way_longitude         340\n",
              "10               pickup_pca1         351\n",
              "12              dropoff_pca1         363\n",
              "1                        ETA         595\n",
              "21               pickup_hour        1148"
            ]
          },
          "metadata": {
            "tags": []
          },
          "execution_count": 36
        }
      ]
    },
    {
      "cell_type": "code",
      "metadata": {
        "id": "nUgOSEKRRJRu",
        "colab_type": "code",
        "outputId": "0ad22b6f-0f7e-49ab-d766-5edcfc7350c6",
        "colab": {
          "base_uri": "https://localhost:8080/",
          "height": 125
        }
      },
      "source": [
        "LGBMR.fit(X,y)"
      ],
      "execution_count": 0,
      "outputs": [
        {
          "output_type": "execute_result",
          "data": {
            "text/plain": [
              "LGBMRegressor(boosting_type='gbdt', class_weight=None, colsample_bytree=1.0,\n",
              "              importance_type='split', learning_rate=0.1, max_depth=-1,\n",
              "              min_child_samples=20, min_child_weight=0.001, min_split_gain=0.0,\n",
              "              n_estimators=200, n_jobs=-1, num_leaves=31, objective=None,\n",
              "              random_state=42, reg_alpha=0.0, reg_lambda=0.0, silent=True,\n",
              "              subsample=1.0, subsample_for_bin=200000, subsample_freq=0)"
            ]
          },
          "metadata": {
            "tags": []
          },
          "execution_count": 37
        }
      ]
    },
    {
      "cell_type": "code",
      "metadata": {
        "id": "BITwXy9vBo6n",
        "colab_type": "code",
        "outputId": "3719c584-b5ea-4e48-a444-782c051016a3",
        "colab": {
          "base_uri": "https://localhost:8080/",
          "height": 35
        }
      },
      "source": [
        "np.mean(cross_val_score(LGBMR,X,y,scoring=mape_CV,cv=KFold(shuffle=True)))"
      ],
      "execution_count": 0,
      "outputs": [
        {
          "output_type": "execute_result",
          "data": {
            "text/plain": [
              "2.369420071909242"
            ]
          },
          "metadata": {
            "tags": []
          },
          "execution_count": 38
        }
      ]
    },
    {
      "cell_type": "markdown",
      "metadata": {
        "id": "L4vHK0G9Ddy4",
        "colab_type": "text"
      },
      "source": [
        "# Test Submission"
      ]
    },
    {
      "cell_type": "code",
      "metadata": {
        "id": "jmFlqQOxDcvx",
        "colab_type": "code",
        "colab": {}
      },
      "source": [
        "X_test = df_test[columns_to_train]"
      ],
      "execution_count": 0,
      "outputs": []
    },
    {
      "cell_type": "code",
      "metadata": {
        "id": "FJX4ZlPrDctp",
        "colab_type": "code",
        "colab": {}
      },
      "source": [
        "prediction_test = np.exp(LGBMR.predict(X_test))"
      ],
      "execution_count": 0,
      "outputs": []
    },
    {
      "cell_type": "code",
      "metadata": {
        "id": "9AoPeadvDcsJ",
        "colab_type": "code",
        "outputId": "45d06e30-0b0c-40d3-de9e-88e7a8468f9d",
        "colab": {
          "base_uri": "https://localhost:8080/",
          "height": 125
        }
      },
      "source": [
        "sub = pd.DataFrame({'Id':[i for i in range(df_test.shape[0])],'Prediction':prediction_test})\n",
        "sub.head(),sub.shape"
      ],
      "execution_count": 0,
      "outputs": [
        {
          "output_type": "execute_result",
          "data": {
            "text/plain": [
              "(   Id   Prediction\n",
              " 0   0   890.724809\n",
              " 1   1   692.882250\n",
              " 2   2   351.967336\n",
              " 3   3   705.884004\n",
              " 4   4  1273.906847, (89938, 2))"
            ]
          },
          "metadata": {
            "tags": []
          },
          "execution_count": 41
        }
      ]
    },
    {
      "cell_type": "code",
      "metadata": {
        "id": "9YMJDfhrGmHF",
        "colab_type": "code",
        "outputId": "6ef79ef9-782c-4115-821f-e79aa836aa16",
        "colab": {
          "base_uri": "https://localhost:8080/",
          "height": 265
        }
      },
      "source": [
        "fig, ax = plt.subplots(nrows=2, sharex=True, sharey=True)\n",
        "sns.distplot(np.exp(prediction_valid), ax=ax[0], color='blue', label='validation prediction')\n",
        "sns.distplot(prediction_test, ax=ax[1], color='green', label='test prediction')\n",
        "ax[0].legend(loc=0)\n",
        "ax[1].legend(loc=0)\n",
        "plt.show()"
      ],
      "execution_count": 0,
      "outputs": [
        {
          "output_type": "display_data",
          "data": {
            "image/png": "[encoded data removed]",
            "text/plain": [
              "<Figure size 432x288 with 2 Axes>"
            ]
          },
          "metadata": {
            "tags": [],
            "needs_background": "light"
          }
        }
      ]
    },
    {
      "cell_type": "code",
      "metadata": {
        "id": "ZrpawdplF0DC",
        "colab_type": "code",
        "colab": {}
      },
      "source": [
        "sub.to_csv('/content/drive/My Drive/hack/submission.csv',index=False)"
      ],
      "execution_count": 0,
      "outputs": []
    }
  ]
}