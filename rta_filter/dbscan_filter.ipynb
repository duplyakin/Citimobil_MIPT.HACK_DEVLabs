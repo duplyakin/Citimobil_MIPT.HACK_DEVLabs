{
 "cells": [
  {
   "cell_type": "code",
   "execution_count": 1,
   "metadata": {},
   "outputs": [],
   "source": [
    "import pandas as pd\n",
    "import numpy as np\n",
    "from polyline.codec import PolylineCodec\n",
    "from geopy import distance\n",
    "from datetime import datetime"
   ]
  },
  {
   "cell_type": "code",
   "execution_count": 2,
   "metadata": {},
   "outputs": [],
   "source": [
    "# we don't need all dataset (only subset)\n",
    "df = pd.read_csv('./final_data/train.csv', nrows=1000)"
   ]
  },
  {
   "cell_type": "code",
   "execution_count": 3,
   "metadata": {},
   "outputs": [
    {
     "data": {
      "text/html": [
       "<div>\n",
       "<style scoped>\n",
       "    .dataframe tbody tr th:only-of-type {\n",
       "        vertical-align: middle;\n",
       "    }\n",
       "\n",
       "    .dataframe tbody tr th {\n",
       "        vertical-align: top;\n",
       "    }\n",
       "\n",
       "    .dataframe thead th {\n",
       "        text-align: right;\n",
       "    }\n",
       "</style>\n",
       "<table border=\"1\" class=\"dataframe\">\n",
       "  <thead>\n",
       "    <tr style=\"text-align: right;\">\n",
       "      <th></th>\n",
       "      <th>Id</th>\n",
       "      <th>main_id_locality</th>\n",
       "      <th>ETA</th>\n",
       "      <th>RTA</th>\n",
       "      <th>OrderedDate</th>\n",
       "      <th>latitude</th>\n",
       "      <th>del_latitude</th>\n",
       "      <th>longitude</th>\n",
       "      <th>del_longitude</th>\n",
       "      <th>EDA</th>\n",
       "      <th>...</th>\n",
       "      <th>GoodArrived</th>\n",
       "      <th>ready_latitude</th>\n",
       "      <th>ready_longitude</th>\n",
       "      <th>onway_latitude</th>\n",
       "      <th>onway_longitude</th>\n",
       "      <th>arrived_latitude</th>\n",
       "      <th>arrived_longitude</th>\n",
       "      <th>center_latitude</th>\n",
       "      <th>center_longitude</th>\n",
       "      <th>route</th>\n",
       "    </tr>\n",
       "  </thead>\n",
       "  <tbody>\n",
       "    <tr>\n",
       "      <th>0</th>\n",
       "      <td>0</td>\n",
       "      <td>1078</td>\n",
       "      <td>226.0</td>\n",
       "      <td>188.0</td>\n",
       "      <td>2020-02-12 19:12:06</td>\n",
       "      <td>55.826019</td>\n",
       "      <td>55.825581</td>\n",
       "      <td>49.134529</td>\n",
       "      <td>49.126949</td>\n",
       "      <td>1.0</td>\n",
       "      <td>...</td>\n",
       "      <td>2020-02-12 19:18:14</td>\n",
       "      <td>55.825647</td>\n",
       "      <td>49.134115</td>\n",
       "      <td>55.826261</td>\n",
       "      <td>49.134137</td>\n",
       "      <td>55.825706</td>\n",
       "      <td>49.127136</td>\n",
       "      <td>55.794388</td>\n",
       "      <td>49.111531</td>\n",
       "      <td>gnvsIaq{jHChA??uC???OPG^F^NRzKBd@AN[r@???`@`@`...</td>\n",
       "    </tr>\n",
       "    <tr>\n",
       "      <th>1</th>\n",
       "      <td>1</td>\n",
       "      <td>1078</td>\n",
       "      <td>718.0</td>\n",
       "      <td>725.0</td>\n",
       "      <td>2020-02-12 19:12:22</td>\n",
       "      <td>55.795502</td>\n",
       "      <td>55.820911</td>\n",
       "      <td>49.131470</td>\n",
       "      <td>49.115360</td>\n",
       "      <td>5.0</td>\n",
       "      <td>...</td>\n",
       "      <td>2020-02-12 19:31:47</td>\n",
       "      <td>55.795591</td>\n",
       "      <td>49.132281</td>\n",
       "      <td>55.795544</td>\n",
       "      <td>49.131552</td>\n",
       "      <td>55.821531</td>\n",
       "      <td>49.115685</td>\n",
       "      <td>55.794388</td>\n",
       "      <td>49.111531</td>\n",
       "      <td>sqpsI}~zjHyAr]e@lMk@fLaBlb@i@rLKhBCdAUxEGlCg@f...</td>\n",
       "    </tr>\n",
       "    <tr>\n",
       "      <th>2</th>\n",
       "      <td>2</td>\n",
       "      <td>1078</td>\n",
       "      <td>612.0</td>\n",
       "      <td>764.0</td>\n",
       "      <td>2020-02-12 19:12:44</td>\n",
       "      <td>55.791050</td>\n",
       "      <td>55.819962</td>\n",
       "      <td>49.226070</td>\n",
       "      <td>49.176628</td>\n",
       "      <td>5.0</td>\n",
       "      <td>...</td>\n",
       "      <td>2020-02-12 19:28:09</td>\n",
       "      <td>55.791099</td>\n",
       "      <td>49.226066</td>\n",
       "      <td>55.791099</td>\n",
       "      <td>49.226066</td>\n",
       "      <td>55.819765</td>\n",
       "      <td>49.177432</td>\n",
       "      <td>55.794388</td>\n",
       "      <td>49.111531</td>\n",
       "      <td>auosI}mmkH?LHd@KhC??o@w@[g@m@iAUk@??{G|OiB`Ek@...</td>\n",
       "    </tr>\n",
       "    <tr>\n",
       "      <th>3</th>\n",
       "      <td>3</td>\n",
       "      <td>1078</td>\n",
       "      <td>1560.0</td>\n",
       "      <td>1412.0</td>\n",
       "      <td>2020-02-12 19:12:44</td>\n",
       "      <td>55.753899</td>\n",
       "      <td>55.824680</td>\n",
       "      <td>49.188519</td>\n",
       "      <td>49.093700</td>\n",
       "      <td>13.0</td>\n",
       "      <td>...</td>\n",
       "      <td>2020-02-12 19:42:41</td>\n",
       "      <td>55.754116</td>\n",
       "      <td>49.188853</td>\n",
       "      <td>55.754116</td>\n",
       "      <td>49.188853</td>\n",
       "      <td>55.824734</td>\n",
       "      <td>49.094013</td>\n",
       "      <td>55.794388</td>\n",
       "      <td>49.111531</td>\n",
       "      <td>{lhsIiffkHmKN_C?mIPwMJ??Si@gA{B??Wq@MRCJTp@hAd...</td>\n",
       "    </tr>\n",
       "    <tr>\n",
       "      <th>4</th>\n",
       "      <td>4</td>\n",
       "      <td>1078</td>\n",
       "      <td>1528.0</td>\n",
       "      <td>893.0</td>\n",
       "      <td>2020-02-12 19:12:45</td>\n",
       "      <td>55.822361</td>\n",
       "      <td>55.786758</td>\n",
       "      <td>49.069092</td>\n",
       "      <td>49.143501</td>\n",
       "      <td>9.0</td>\n",
       "      <td>...</td>\n",
       "      <td>2020-02-12 19:32:19</td>\n",
       "      <td>55.822483</td>\n",
       "      <td>49.069659</td>\n",
       "      <td>55.822617</td>\n",
       "      <td>49.069229</td>\n",
       "      <td>55.786936</td>\n",
       "      <td>49.143330</td>\n",
       "      <td>55.794388</td>\n",
       "      <td>49.111531</td>\n",
       "      <td>yxusI{xnjHgAfG??}IuHkAqA??pIoe@VsA??dAkG`BuH??...</td>\n",
       "    </tr>\n",
       "  </tbody>\n",
       "</table>\n",
       "<p>5 rows × 23 columns</p>\n",
       "</div>"
      ],
      "text/plain": [
       "   Id  main_id_locality     ETA     RTA          OrderedDate   latitude  \\\n",
       "0   0              1078   226.0   188.0  2020-02-12 19:12:06  55.826019   \n",
       "1   1              1078   718.0   725.0  2020-02-12 19:12:22  55.795502   \n",
       "2   2              1078   612.0   764.0  2020-02-12 19:12:44  55.791050   \n",
       "3   3              1078  1560.0  1412.0  2020-02-12 19:12:44  55.753899   \n",
       "4   4              1078  1528.0   893.0  2020-02-12 19:12:45  55.822361   \n",
       "\n",
       "   del_latitude  longitude  del_longitude   EDA  ...          GoodArrived  \\\n",
       "0     55.825581  49.134529      49.126949   1.0  ...  2020-02-12 19:18:14   \n",
       "1     55.820911  49.131470      49.115360   5.0  ...  2020-02-12 19:31:47   \n",
       "2     55.819962  49.226070      49.176628   5.0  ...  2020-02-12 19:28:09   \n",
       "3     55.824680  49.188519      49.093700  13.0  ...  2020-02-12 19:42:41   \n",
       "4     55.786758  49.069092      49.143501   9.0  ...  2020-02-12 19:32:19   \n",
       "\n",
       "  ready_latitude ready_longitude onway_latitude  onway_longitude  \\\n",
       "0      55.825647       49.134115      55.826261        49.134137   \n",
       "1      55.795591       49.132281      55.795544        49.131552   \n",
       "2      55.791099       49.226066      55.791099        49.226066   \n",
       "3      55.754116       49.188853      55.754116        49.188853   \n",
       "4      55.822483       49.069659      55.822617        49.069229   \n",
       "\n",
       "   arrived_latitude  arrived_longitude  center_latitude  center_longitude  \\\n",
       "0         55.825706          49.127136        55.794388         49.111531   \n",
       "1         55.821531          49.115685        55.794388         49.111531   \n",
       "2         55.819765          49.177432        55.794388         49.111531   \n",
       "3         55.824734          49.094013        55.794388         49.111531   \n",
       "4         55.786936          49.143330        55.794388         49.111531   \n",
       "\n",
       "                                               route  \n",
       "0  gnvsIaq{jHChA??uC???OPG^F^NRzKBd@AN[r@???`@`@`...  \n",
       "1  sqpsI}~zjHyAr]e@lMk@fLaBlb@i@rLKhBCdAUxEGlCg@f...  \n",
       "2  auosI}mmkH?LHd@KhC??o@w@[g@m@iAUk@??{G|OiB`Ek@...  \n",
       "3  {lhsIiffkHmKN_C?mIPwMJ??Si@gA{B??Wq@MRCJTp@hAd...  \n",
       "4  yxusI{xnjHgAfG??}IuHkAqA??pIoe@VsA??dAkG`BuH??...  \n",
       "\n",
       "[5 rows x 23 columns]"
      ]
     },
     "execution_count": 3,
     "metadata": {},
     "output_type": "execute_result"
    }
   ],
   "source": [
    "df.head(5)"
   ]
  },
  {
   "cell_type": "markdown",
   "metadata": {},
   "source": [
    "# 1. RTA based on driver data"
   ]
  },
  {
   "cell_type": "code",
   "execution_count": 4,
   "metadata": {},
   "outputs": [],
   "source": [
    "def calc_rta(good_arrived, client_collected):\n",
    "    ga_dt = datetime.strptime(good_arrived, '%Y-%m-%d %H:%M:%S')\n",
    "    cc_dt = datetime.strptime(client_collected, '%Y-%m-%d %H:%M:%S')\n",
    "    assert ga_dt >= cc_dt\n",
    "    dif = ga_dt - cc_dt\n",
    "    #assert dif.days == 0 # ( for taxi?)\n",
    "    if dif.days != 0:\n",
    "        print(good_arrived, client_collected)\n",
    "    dif_in_seconds = dif.seconds\n",
    "    return float(dif_in_seconds)"
   ]
  },
  {
   "cell_type": "code",
   "execution_count": 5,
   "metadata": {},
   "outputs": [],
   "source": [
    "df['driver_rta'] = df.apply(lambda row: calc_rta(row['GoodArrived'], row['ClientCollected']), axis=1)"
   ]
  },
  {
   "cell_type": "code",
   "execution_count": 6,
   "metadata": {},
   "outputs": [
    {
     "data": {
      "text/html": [
       "<div>\n",
       "<style scoped>\n",
       "    .dataframe tbody tr th:only-of-type {\n",
       "        vertical-align: middle;\n",
       "    }\n",
       "\n",
       "    .dataframe tbody tr th {\n",
       "        vertical-align: top;\n",
       "    }\n",
       "\n",
       "    .dataframe thead th {\n",
       "        text-align: right;\n",
       "    }\n",
       "</style>\n",
       "<table border=\"1\" class=\"dataframe\">\n",
       "  <thead>\n",
       "    <tr style=\"text-align: right;\">\n",
       "      <th></th>\n",
       "      <th>Id</th>\n",
       "      <th>main_id_locality</th>\n",
       "      <th>ETA</th>\n",
       "      <th>RTA</th>\n",
       "      <th>OrderedDate</th>\n",
       "      <th>latitude</th>\n",
       "      <th>del_latitude</th>\n",
       "      <th>longitude</th>\n",
       "      <th>del_longitude</th>\n",
       "      <th>EDA</th>\n",
       "      <th>...</th>\n",
       "      <th>ready_latitude</th>\n",
       "      <th>ready_longitude</th>\n",
       "      <th>onway_latitude</th>\n",
       "      <th>onway_longitude</th>\n",
       "      <th>arrived_latitude</th>\n",
       "      <th>arrived_longitude</th>\n",
       "      <th>center_latitude</th>\n",
       "      <th>center_longitude</th>\n",
       "      <th>route</th>\n",
       "      <th>driver_rta</th>\n",
       "    </tr>\n",
       "  </thead>\n",
       "  <tbody>\n",
       "    <tr>\n",
       "      <th>0</th>\n",
       "      <td>0</td>\n",
       "      <td>1078</td>\n",
       "      <td>226.0</td>\n",
       "      <td>188.0</td>\n",
       "      <td>2020-02-12 19:12:06</td>\n",
       "      <td>55.826019</td>\n",
       "      <td>55.825581</td>\n",
       "      <td>49.134529</td>\n",
       "      <td>49.126949</td>\n",
       "      <td>1.0</td>\n",
       "      <td>...</td>\n",
       "      <td>55.825647</td>\n",
       "      <td>49.134115</td>\n",
       "      <td>55.826261</td>\n",
       "      <td>49.134137</td>\n",
       "      <td>55.825706</td>\n",
       "      <td>49.127136</td>\n",
       "      <td>55.794388</td>\n",
       "      <td>49.111531</td>\n",
       "      <td>gnvsIaq{jHChA??uC???OPG^F^NRzKBd@AN[r@???`@`@`...</td>\n",
       "      <td>188.0</td>\n",
       "    </tr>\n",
       "    <tr>\n",
       "      <th>1</th>\n",
       "      <td>1</td>\n",
       "      <td>1078</td>\n",
       "      <td>718.0</td>\n",
       "      <td>725.0</td>\n",
       "      <td>2020-02-12 19:12:22</td>\n",
       "      <td>55.795502</td>\n",
       "      <td>55.820911</td>\n",
       "      <td>49.131470</td>\n",
       "      <td>49.115360</td>\n",
       "      <td>5.0</td>\n",
       "      <td>...</td>\n",
       "      <td>55.795591</td>\n",
       "      <td>49.132281</td>\n",
       "      <td>55.795544</td>\n",
       "      <td>49.131552</td>\n",
       "      <td>55.821531</td>\n",
       "      <td>49.115685</td>\n",
       "      <td>55.794388</td>\n",
       "      <td>49.111531</td>\n",
       "      <td>sqpsI}~zjHyAr]e@lMk@fLaBlb@i@rLKhBCdAUxEGlCg@f...</td>\n",
       "      <td>725.0</td>\n",
       "    </tr>\n",
       "    <tr>\n",
       "      <th>2</th>\n",
       "      <td>2</td>\n",
       "      <td>1078</td>\n",
       "      <td>612.0</td>\n",
       "      <td>764.0</td>\n",
       "      <td>2020-02-12 19:12:44</td>\n",
       "      <td>55.791050</td>\n",
       "      <td>55.819962</td>\n",
       "      <td>49.226070</td>\n",
       "      <td>49.176628</td>\n",
       "      <td>5.0</td>\n",
       "      <td>...</td>\n",
       "      <td>55.791099</td>\n",
       "      <td>49.226066</td>\n",
       "      <td>55.791099</td>\n",
       "      <td>49.226066</td>\n",
       "      <td>55.819765</td>\n",
       "      <td>49.177432</td>\n",
       "      <td>55.794388</td>\n",
       "      <td>49.111531</td>\n",
       "      <td>auosI}mmkH?LHd@KhC??o@w@[g@m@iAUk@??{G|OiB`Ek@...</td>\n",
       "      <td>764.0</td>\n",
       "    </tr>\n",
       "    <tr>\n",
       "      <th>3</th>\n",
       "      <td>3</td>\n",
       "      <td>1078</td>\n",
       "      <td>1560.0</td>\n",
       "      <td>1412.0</td>\n",
       "      <td>2020-02-12 19:12:44</td>\n",
       "      <td>55.753899</td>\n",
       "      <td>55.824680</td>\n",
       "      <td>49.188519</td>\n",
       "      <td>49.093700</td>\n",
       "      <td>13.0</td>\n",
       "      <td>...</td>\n",
       "      <td>55.754116</td>\n",
       "      <td>49.188853</td>\n",
       "      <td>55.754116</td>\n",
       "      <td>49.188853</td>\n",
       "      <td>55.824734</td>\n",
       "      <td>49.094013</td>\n",
       "      <td>55.794388</td>\n",
       "      <td>49.111531</td>\n",
       "      <td>{lhsIiffkHmKN_C?mIPwMJ??Si@gA{B??Wq@MRCJTp@hAd...</td>\n",
       "      <td>1412.0</td>\n",
       "    </tr>\n",
       "    <tr>\n",
       "      <th>4</th>\n",
       "      <td>4</td>\n",
       "      <td>1078</td>\n",
       "      <td>1528.0</td>\n",
       "      <td>893.0</td>\n",
       "      <td>2020-02-12 19:12:45</td>\n",
       "      <td>55.822361</td>\n",
       "      <td>55.786758</td>\n",
       "      <td>49.069092</td>\n",
       "      <td>49.143501</td>\n",
       "      <td>9.0</td>\n",
       "      <td>...</td>\n",
       "      <td>55.822483</td>\n",
       "      <td>49.069659</td>\n",
       "      <td>55.822617</td>\n",
       "      <td>49.069229</td>\n",
       "      <td>55.786936</td>\n",
       "      <td>49.143330</td>\n",
       "      <td>55.794388</td>\n",
       "      <td>49.111531</td>\n",
       "      <td>yxusI{xnjHgAfG??}IuHkAqA??pIoe@VsA??dAkG`BuH??...</td>\n",
       "      <td>893.0</td>\n",
       "    </tr>\n",
       "  </tbody>\n",
       "</table>\n",
       "<p>5 rows × 24 columns</p>\n",
       "</div>"
      ],
      "text/plain": [
       "   Id  main_id_locality     ETA     RTA          OrderedDate   latitude  \\\n",
       "0   0              1078   226.0   188.0  2020-02-12 19:12:06  55.826019   \n",
       "1   1              1078   718.0   725.0  2020-02-12 19:12:22  55.795502   \n",
       "2   2              1078   612.0   764.0  2020-02-12 19:12:44  55.791050   \n",
       "3   3              1078  1560.0  1412.0  2020-02-12 19:12:44  55.753899   \n",
       "4   4              1078  1528.0   893.0  2020-02-12 19:12:45  55.822361   \n",
       "\n",
       "   del_latitude  longitude  del_longitude   EDA  ...  ready_latitude  \\\n",
       "0     55.825581  49.134529      49.126949   1.0  ...       55.825647   \n",
       "1     55.820911  49.131470      49.115360   5.0  ...       55.795591   \n",
       "2     55.819962  49.226070      49.176628   5.0  ...       55.791099   \n",
       "3     55.824680  49.188519      49.093700  13.0  ...       55.754116   \n",
       "4     55.786758  49.069092      49.143501   9.0  ...       55.822483   \n",
       "\n",
       "  ready_longitude onway_latitude onway_longitude  arrived_latitude  \\\n",
       "0       49.134115      55.826261       49.134137         55.825706   \n",
       "1       49.132281      55.795544       49.131552         55.821531   \n",
       "2       49.226066      55.791099       49.226066         55.819765   \n",
       "3       49.188853      55.754116       49.188853         55.824734   \n",
       "4       49.069659      55.822617       49.069229         55.786936   \n",
       "\n",
       "   arrived_longitude  center_latitude  center_longitude  \\\n",
       "0          49.127136        55.794388         49.111531   \n",
       "1          49.115685        55.794388         49.111531   \n",
       "2          49.177432        55.794388         49.111531   \n",
       "3          49.094013        55.794388         49.111531   \n",
       "4          49.143330        55.794388         49.111531   \n",
       "\n",
       "                                               route  driver_rta  \n",
       "0  gnvsIaq{jHChA??uC???OPG^F^NRzKBd@AN[r@???`@`@`...       188.0  \n",
       "1  sqpsI}~zjHyAr]e@lMk@fLaBlb@i@rLKhBCdAUxEGlCg@f...       725.0  \n",
       "2  auosI}mmkH?LHd@KhC??o@w@[g@m@iAUk@??{G|OiB`Ek@...       764.0  \n",
       "3  {lhsIiffkHmKN_C?mIPwMJ??Si@gA{B??Wq@MRCJTp@hAd...      1412.0  \n",
       "4  yxusI{xnjHgAfG??}IuHkAqA??pIoe@VsA??dAkG`BuH??...       893.0  \n",
       "\n",
       "[5 rows x 24 columns]"
      ]
     },
     "execution_count": 6,
     "metadata": {},
     "output_type": "execute_result"
    }
   ],
   "source": [
    "df.head(5)"
   ]
  },
  {
   "cell_type": "markdown",
   "metadata": {},
   "source": [
    "# 2. Initial metric value (ETA, driver_rta)"
   ]
  },
  {
   "cell_type": "code",
   "execution_count": 7,
   "metadata": {},
   "outputs": [],
   "source": [
    "from sklearn.metrics import mean_squared_error\n",
    "\n",
    "# for example, rmse\n",
    "\n",
    "def rta_metric(eta, rta):\n",
    "    return np.sqrt(mean_squared_error(eta, rta))"
   ]
  },
  {
   "cell_type": "markdown",
   "metadata": {},
   "source": [
    "# 3. Missing value columns"
   ]
  },
  {
   "cell_type": "code",
   "execution_count": 8,
   "metadata": {},
   "outputs": [
    {
     "data": {
      "text/plain": [
       "Id                    False\n",
       "main_id_locality      False\n",
       "ETA                   False\n",
       "RTA                   False\n",
       "OrderedDate           False\n",
       "latitude              False\n",
       "del_latitude          False\n",
       "longitude             False\n",
       "del_longitude         False\n",
       "EDA                   False\n",
       "RDA                   False\n",
       "ReadyForCollection    False\n",
       "ClientCollected       False\n",
       "GoodArrived           False\n",
       "ready_latitude         True\n",
       "ready_longitude        True\n",
       "onway_latitude         True\n",
       "onway_longitude        True\n",
       "arrived_latitude       True\n",
       "arrived_longitude      True\n",
       "center_latitude       False\n",
       "center_longitude      False\n",
       "route                 False\n",
       "driver_rta            False\n",
       "dtype: bool"
      ]
     },
     "execution_count": 8,
     "metadata": {},
     "output_type": "execute_result"
    }
   ],
   "source": [
    "df.isnull().any()"
   ]
  },
  {
   "cell_type": "markdown",
   "metadata": {},
   "source": [
    "There are some missing values"
   ]
  },
  {
   "cell_type": "markdown",
   "metadata": {},
   "source": [
    "# 4. Additional columns\n",
    "\n",
    "In order to use some distance function, we added some useful columns"
   ]
  },
  {
   "cell_type": "code",
   "execution_count": 9,
   "metadata": {},
   "outputs": [],
   "source": [
    "def time_dif(eta, driver_rta):\n",
    "    \"\"\"\n",
    "    some heuristics for incorrect data filled in by a driver\n",
    "    \"\"\"\n",
    "    return np.square(eta - driver_rta)"
   ]
  },
  {
   "cell_type": "code",
   "execution_count": 10,
   "metadata": {},
   "outputs": [],
   "source": [
    "df['time_dif'] = df.apply(lambda row: time_dif(row['ETA'], row['driver_rta']), axis=1)"
   ]
  },
  {
   "cell_type": "code",
   "execution_count": 11,
   "metadata": {},
   "outputs": [],
   "source": [
    "def start_point_dif(latitude, longitude,\n",
    "                    onway_latitude, onway_longitude):\n",
    "    start = latitude, longitude\n",
    "    try:\n",
    "        onway = onway_latitude, onway_longitude\n",
    "        return distance.great_circle(start, onway).m\n",
    "    except:\n",
    "        return None"
   ]
  },
  {
   "cell_type": "code",
   "execution_count": 12,
   "metadata": {},
   "outputs": [],
   "source": [
    "df['start_dif'] = df.apply(lambda row: start_point_dif(row['latitude'], row['longitude'],\n",
    "                                                   row['onway_latitude'], row['onway_longitude']), axis=1)"
   ]
  },
  {
   "cell_type": "code",
   "execution_count": 13,
   "metadata": {},
   "outputs": [],
   "source": [
    "def end_point_dif(del_latitude, del_longitude,\n",
    "                 arrived_latitude, arrived_longitude):\n",
    "    end = del_latitude, del_longitude\n",
    "    try:\n",
    "        arrived = arrived_latitude, arrived_longitude\n",
    "        return distance.great_circle(end, arrived).m\n",
    "    except:\n",
    "        return None"
   ]
  },
  {
   "cell_type": "code",
   "execution_count": 14,
   "metadata": {},
   "outputs": [],
   "source": [
    "df['end_dif'] = df.apply(lambda row: start_point_dif(row['del_latitude'], row['del_longitude'],\n",
    "                                                   row['arrived_latitude'], row['arrived_longitude']), axis=1)"
   ]
  },
  {
   "cell_type": "code",
   "execution_count": 15,
   "metadata": {},
   "outputs": [],
   "source": [
    "df.dropna(subset=['time_dif', 'start_dif', 'end_dif'], inplace=True)"
   ]
  },
  {
   "cell_type": "code",
   "execution_count": 16,
   "metadata": {},
   "outputs": [
    {
     "data": {
      "text/plain": [
       "Id                    False\n",
       "main_id_locality      False\n",
       "ETA                   False\n",
       "RTA                   False\n",
       "OrderedDate           False\n",
       "latitude              False\n",
       "del_latitude          False\n",
       "longitude             False\n",
       "del_longitude         False\n",
       "EDA                   False\n",
       "RDA                   False\n",
       "ReadyForCollection    False\n",
       "ClientCollected       False\n",
       "GoodArrived           False\n",
       "ready_latitude        False\n",
       "ready_longitude       False\n",
       "onway_latitude        False\n",
       "onway_longitude       False\n",
       "arrived_latitude      False\n",
       "arrived_longitude     False\n",
       "center_latitude       False\n",
       "center_longitude      False\n",
       "route                 False\n",
       "driver_rta            False\n",
       "time_dif              False\n",
       "start_dif             False\n",
       "end_dif               False\n",
       "dtype: bool"
      ]
     },
     "execution_count": 16,
     "metadata": {},
     "output_type": "execute_result"
    }
   ],
   "source": [
    "df.isnull().any()"
   ]
  },
  {
   "cell_type": "code",
   "execution_count": 17,
   "metadata": {},
   "outputs": [
    {
     "data": {
      "text/plain": [
       "(995, 27)"
      ]
     },
     "execution_count": 17,
     "metadata": {},
     "output_type": "execute_result"
    }
   ],
   "source": [
    "df.shape"
   ]
  },
  {
   "cell_type": "markdown",
   "metadata": {},
   "source": [
    "# 5. DBSCAN"
   ]
  },
  {
   "cell_type": "code",
   "execution_count": 18,
   "metadata": {},
   "outputs": [
    {
     "data": {
      "text/html": [
       "<div>\n",
       "<style scoped>\n",
       "    .dataframe tbody tr th:only-of-type {\n",
       "        vertical-align: middle;\n",
       "    }\n",
       "\n",
       "    .dataframe tbody tr th {\n",
       "        vertical-align: top;\n",
       "    }\n",
       "\n",
       "    .dataframe thead th {\n",
       "        text-align: right;\n",
       "    }\n",
       "</style>\n",
       "<table border=\"1\" class=\"dataframe\">\n",
       "  <thead>\n",
       "    <tr style=\"text-align: right;\">\n",
       "      <th></th>\n",
       "      <th>time_dif</th>\n",
       "      <th>start_dif</th>\n",
       "      <th>end_dif</th>\n",
       "    </tr>\n",
       "  </thead>\n",
       "  <tbody>\n",
       "    <tr>\n",
       "      <th>0</th>\n",
       "      <td>1444.0</td>\n",
       "      <td>36.337392</td>\n",
       "      <td>18.215878</td>\n",
       "    </tr>\n",
       "    <tr>\n",
       "      <th>1</th>\n",
       "      <td>49.0</td>\n",
       "      <td>6.983666</td>\n",
       "      <td>71.764889</td>\n",
       "    </tr>\n",
       "    <tr>\n",
       "      <th>2</th>\n",
       "      <td>23104.0</td>\n",
       "      <td>5.426626</td>\n",
       "      <td>54.780441</td>\n",
       "    </tr>\n",
       "    <tr>\n",
       "      <th>3</th>\n",
       "      <td>21904.0</td>\n",
       "      <td>31.961390</td>\n",
       "      <td>20.453490</td>\n",
       "    </tr>\n",
       "    <tr>\n",
       "      <th>4</th>\n",
       "      <td>403225.0</td>\n",
       "      <td>29.757272</td>\n",
       "      <td>22.437192</td>\n",
       "    </tr>\n",
       "    <tr>\n",
       "      <th>...</th>\n",
       "      <td>...</td>\n",
       "      <td>...</td>\n",
       "      <td>...</td>\n",
       "    </tr>\n",
       "    <tr>\n",
       "      <th>995</th>\n",
       "      <td>109561.0</td>\n",
       "      <td>11.894529</td>\n",
       "      <td>44.113892</td>\n",
       "    </tr>\n",
       "    <tr>\n",
       "      <th>996</th>\n",
       "      <td>22500.0</td>\n",
       "      <td>26.578383</td>\n",
       "      <td>74.984939</td>\n",
       "    </tr>\n",
       "    <tr>\n",
       "      <th>997</th>\n",
       "      <td>187489.0</td>\n",
       "      <td>170.545390</td>\n",
       "      <td>42.114903</td>\n",
       "    </tr>\n",
       "    <tr>\n",
       "      <th>998</th>\n",
       "      <td>2809.0</td>\n",
       "      <td>37.221438</td>\n",
       "      <td>22.269535</td>\n",
       "    </tr>\n",
       "    <tr>\n",
       "      <th>999</th>\n",
       "      <td>27889.0</td>\n",
       "      <td>90.243409</td>\n",
       "      <td>56.928876</td>\n",
       "    </tr>\n",
       "  </tbody>\n",
       "</table>\n",
       "<p>995 rows × 3 columns</p>\n",
       "</div>"
      ],
      "text/plain": [
       "     time_dif   start_dif    end_dif\n",
       "0      1444.0   36.337392  18.215878\n",
       "1        49.0    6.983666  71.764889\n",
       "2     23104.0    5.426626  54.780441\n",
       "3     21904.0   31.961390  20.453490\n",
       "4    403225.0   29.757272  22.437192\n",
       "..        ...         ...        ...\n",
       "995  109561.0   11.894529  44.113892\n",
       "996   22500.0   26.578383  74.984939\n",
       "997  187489.0  170.545390  42.114903\n",
       "998    2809.0   37.221438  22.269535\n",
       "999   27889.0   90.243409  56.928876\n",
       "\n",
       "[995 rows x 3 columns]"
      ]
     },
     "execution_count": 18,
     "metadata": {},
     "output_type": "execute_result"
    }
   ],
   "source": [
    "X = df.iloc[:, -3:]\n",
    "X"
   ]
  },
  {
   "cell_type": "code",
   "execution_count": 19,
   "metadata": {},
   "outputs": [],
   "source": [
    "import numpy as np\n",
    "\n",
    "from sklearn.cluster import DBSCAN\n",
    "from sklearn import metrics\n",
    "from sklearn.datasets import make_blobs\n",
    "from sklearn.preprocessing import StandardScaler"
   ]
  },
  {
   "cell_type": "code",
   "execution_count": 20,
   "metadata": {},
   "outputs": [
    {
     "data": {
      "text/plain": [
       "array([[-0.63115279, -0.02932349, -0.10852353],\n",
       "       [-0.64225531, -0.35781957,  0.07028301],\n",
       "       [-0.45876528, -0.37524433,  0.01356991],\n",
       "       ...,\n",
       "       [ 0.84954132,  1.47259152, -0.02872183],\n",
       "       [-0.62028904, -0.01943018, -0.09498789],\n",
       "       [-0.42068245,  0.57393605,  0.02074379]])"
      ]
     },
     "execution_count": 20,
     "metadata": {},
     "output_type": "execute_result"
    }
   ],
   "source": [
    "X = StandardScaler().fit_transform(X)\n",
    "X"
   ]
  },
  {
   "cell_type": "code",
   "execution_count": 21,
   "metadata": {},
   "outputs": [],
   "source": [
    "db = DBSCAN(eps=0.5, min_samples=7).fit(X)"
   ]
  },
  {
   "cell_type": "code",
   "execution_count": 22,
   "metadata": {},
   "outputs": [
    {
     "name": "stdout",
     "output_type": "stream",
     "text": [
      "1 35\n"
     ]
    }
   ],
   "source": [
    "labels = db.labels_\n",
    "\n",
    "n_clusters_ = len(set(labels)) - (1 if -1 in labels else 0)\n",
    "n_noise_ = list(labels).count(-1)\n",
    "print(n_clusters_, n_noise_)"
   ]
  },
  {
   "cell_type": "code",
   "execution_count": 23,
   "metadata": {},
   "outputs": [
    {
     "data": {
      "text/plain": [
       "array([ 0,  0,  0,  0,  0,  0,  0,  0,  0,  0,  0,  0,  0, -1,  0,  0,  0,\n",
       "       -1,  0, -1,  0,  0,  0,  0,  0,  0,  0,  0,  0,  0,  0,  0,  0,  0,\n",
       "        0,  0,  0,  0,  0,  0,  0,  0,  0, -1,  0,  0, -1,  0,  0,  0,  0,\n",
       "        0,  0,  0,  0,  0,  0,  0,  0,  0,  0,  0,  0,  0,  0,  0,  0,  0,\n",
       "        0,  0,  0, -1,  0,  0,  0,  0,  0,  0,  0,  0,  0,  0,  0,  0,  0,\n",
       "        0,  0,  0,  0,  0,  0,  0,  0,  0,  0,  0,  0,  0,  0,  0,  0,  0,\n",
       "        0,  0,  0,  0,  0,  0,  0,  0,  0,  0,  0,  0,  0,  0,  0,  0,  0,\n",
       "        0,  0,  0,  0,  0,  0,  0,  0,  0,  0,  0,  0,  0,  0,  0,  0,  0,\n",
       "        0,  0,  0,  0,  0,  0,  0,  0,  0,  0,  0,  0,  0,  0,  0,  0, -1,\n",
       "        0,  0,  0,  0,  0,  0,  0,  0,  0,  0,  0,  0,  0,  0,  0,  0,  0,\n",
       "        0,  0,  0,  0,  0,  0,  0,  0,  0,  0,  0,  0,  0,  0, -1,  0,  0,\n",
       "        0,  0,  0, -1,  0,  0,  0, -1,  0,  0,  0,  0,  0,  0,  0,  0, -1,\n",
       "        0,  0,  0,  0,  0,  0,  0,  0,  0,  0,  0,  0,  0,  0,  0,  0,  0,\n",
       "        0,  0,  0,  0,  0,  0,  0,  0,  0,  0,  0,  0,  0,  0,  0,  0,  0,\n",
       "        0,  0,  0,  0,  0,  0,  0,  0,  0,  0,  0,  0,  0,  0,  0,  0,  0,\n",
       "        0,  0,  0,  0,  0,  0,  0,  0,  0,  0,  0,  0,  0,  0,  0, -1,  0,\n",
       "        0,  0,  0,  0,  0,  0,  0,  0,  0,  0,  0,  0,  0,  0,  0,  0,  0,\n",
       "        0,  0,  0,  0,  0,  0,  0,  0,  0,  0,  0,  0,  0,  0,  0,  0,  0,\n",
       "        0,  0,  0,  0,  0,  0,  0,  0,  0,  0,  0,  0,  0,  0,  0,  0,  0,\n",
       "        0,  0,  0,  0, -1,  0,  0, -1,  0,  0,  0,  0,  0,  0,  0,  0,  0,\n",
       "        0, -1,  0,  0,  0,  0,  0,  0,  0,  0,  0,  0,  0,  0,  0,  0,  0,\n",
       "        0,  0,  0,  0,  0,  0,  0,  0,  0,  0,  0,  0,  0,  0,  0,  0,  0,\n",
       "       -1,  0,  0,  0,  0,  0,  0,  0,  0,  0,  0,  0,  0,  0,  0,  0,  0,\n",
       "        0,  0,  0,  0,  0,  0,  0,  0,  0,  0,  0,  0,  0,  0,  0,  0,  0,\n",
       "        0,  0,  0,  0,  0,  0,  0,  0,  0,  0,  0,  0,  0,  0,  0,  0,  0,\n",
       "        0,  0,  0,  0,  0,  0,  0,  0,  0,  0,  0,  0,  0,  0,  0,  0,  0,\n",
       "        0,  0,  0,  0,  0,  0,  0,  0,  0,  0,  0,  0,  0,  0,  0,  0,  0,\n",
       "        0,  0,  0,  0,  0,  0,  0,  0,  0,  0,  0,  0,  0,  0,  0,  0,  0,\n",
       "        0,  0,  0,  0,  0,  0,  0, -1,  0,  0,  0,  0,  0,  0, -1,  0,  0,\n",
       "        0,  0,  0,  0,  0,  0,  0,  0,  0,  0,  0,  0,  0,  0,  0,  0,  0,\n",
       "        0,  0, -1,  0,  0,  0,  0,  0,  0,  0,  0,  0,  0,  0,  0,  0,  0,\n",
       "        0,  0,  0,  0,  0,  0,  0,  0,  0,  0,  0,  0, -1,  0,  0,  0,  0,\n",
       "        0,  0,  0,  0,  0,  0,  0,  0,  0,  0,  0,  0,  0,  0,  0,  0,  0,\n",
       "        0,  0,  0,  0,  0,  0,  0,  0,  0,  0,  0,  0,  0,  0,  0,  0,  0,\n",
       "        0,  0,  0,  0,  0,  0,  0,  0,  0,  0,  0,  0,  0,  0,  0,  0,  0,\n",
       "        0,  0,  0,  0,  0,  0,  0,  0,  0,  0,  0,  0,  0,  0,  0,  0,  0,\n",
       "        0,  0,  0,  0, -1,  0,  0,  0,  0,  0,  0,  0,  0,  0, -1,  0,  0,\n",
       "        0,  0,  0,  0,  0,  0,  0,  0, -1,  0,  0,  0,  0,  0,  0,  0,  0,\n",
       "        0,  0,  0, -1,  0,  0,  0,  0,  0,  0,  0,  0,  0,  0,  0,  0,  0,\n",
       "        0,  0,  0,  0,  0,  0,  0,  0,  0,  0,  0,  0,  0,  0,  0,  0,  0,\n",
       "        0,  0,  0,  0,  0,  0,  0,  0,  0,  0,  0,  0,  0,  0,  0,  0,  0,\n",
       "        0,  0,  0, -1,  0,  0,  0,  0,  0,  0,  0,  0,  0,  0,  0,  0,  0,\n",
       "        0,  0,  0,  0,  0,  0,  0,  0,  0,  0,  0,  0,  0,  0,  0,  0,  0,\n",
       "        0,  0,  0,  0,  0,  0,  0,  0,  0,  0,  0,  0,  0,  0,  0,  0,  0,\n",
       "        0,  0,  0,  0,  0,  0,  0,  0,  0,  0,  0, -1,  0,  0,  0,  0,  0,\n",
       "        0,  0,  0,  0,  0,  0,  0,  0,  0,  0,  0,  0,  0,  0,  0,  0,  0,\n",
       "        0,  0,  0,  0,  0,  0,  0,  0,  0,  0,  0,  0,  0,  0,  0,  0,  0,\n",
       "        0,  0,  0,  0,  0,  0,  0,  0,  0,  0,  0,  0,  0,  0,  0,  0,  0,\n",
       "        0,  0,  0,  0,  0,  0,  0,  0,  0,  0,  0,  0,  0,  0,  0,  0,  0,\n",
       "        0,  0,  0,  0,  0,  0,  0,  0,  0,  0,  0, -1,  0,  0,  0,  0,  0,\n",
       "        0,  0,  0,  0,  0,  0,  0,  0,  0,  0,  0,  0,  0,  0,  0,  0,  0,\n",
       "        0,  0,  0,  0,  0,  0,  0,  0,  0,  0,  0,  0,  0,  0,  0,  0,  0,\n",
       "        0,  0,  0,  0,  0,  0,  0,  0,  0, -1,  0,  0,  0,  0,  0,  0,  0,\n",
       "        0,  0,  0,  0,  0,  0,  0,  0,  0,  0,  0,  0,  0,  0,  0,  0,  0,\n",
       "        0, -1,  0,  0,  0,  0,  0,  0,  0, -1,  0,  0,  0,  0,  0, -1,  0,\n",
       "        0,  0,  0, -1,  0,  0,  0,  0,  0,  0,  0,  0,  0,  0,  0,  0,  0,\n",
       "        0,  0,  0, -1,  0,  0,  0,  0,  0,  0,  0,  0,  0,  0,  0,  0,  0,\n",
       "        0,  0,  0,  0,  0,  0,  0,  0,  0,  0,  0,  0, -1,  0,  0,  0,  0,\n",
       "        0,  0,  0,  0,  0,  0, -1,  0,  0])"
      ]
     },
     "execution_count": 23,
     "metadata": {},
     "output_type": "execute_result"
    }
   ],
   "source": [
    "labels"
   ]
  },
  {
   "cell_type": "markdown",
   "metadata": {},
   "source": [
    "**Save points without noisy data**"
   ]
  },
  {
   "cell_type": "code",
   "execution_count": 24,
   "metadata": {},
   "outputs": [],
   "source": [
    "# reset index after dropping missing values earlier\n",
    "df.reset_index(inplace=True)"
   ]
  },
  {
   "cell_type": "code",
   "execution_count": 25,
   "metadata": {},
   "outputs": [],
   "source": [
    "good_points = []\n",
    "for idx in range(len(labels)):\n",
    "    if labels[idx] == 0:\n",
    "        good_points.append(\n",
    "            [df['time_dif'][idx], df['start_dif'][idx], df['end_dif'][idx]]\n",
    "        )\n"
   ]
  },
  {
   "cell_type": "code",
   "execution_count": 26,
   "metadata": {},
   "outputs": [
    {
     "data": {
      "text/plain": [
       "960"
      ]
     },
     "execution_count": 26,
     "metadata": {},
     "output_type": "execute_result"
    }
   ],
   "source": [
    "len(good_points)"
   ]
  },
  {
   "cell_type": "code",
   "execution_count": 27,
   "metadata": {},
   "outputs": [
    {
     "data": {
      "text/plain": [
       "(995, 28)"
      ]
     },
     "execution_count": 27,
     "metadata": {},
     "output_type": "execute_result"
    }
   ],
   "source": [
    "df.shape"
   ]
  },
  {
   "cell_type": "code",
   "execution_count": 28,
   "metadata": {},
   "outputs": [
    {
     "data": {
      "text/plain": [
       "[[1444.0, 36.33739196178953, 18.215878331474354],\n",
       " [49.0, 6.983666440259884, 71.76488868064301],\n",
       " [23104.0, 5.426626081726999, 54.78044102404102],\n",
       " [21904.0, 31.961390437602823, 20.453490377542874],\n",
       " [403225.0, 29.75727249569987, 22.437192279089864]]"
      ]
     },
     "execution_count": 28,
     "metadata": {},
     "output_type": "execute_result"
    }
   ],
   "source": [
    "good_points[:5]"
   ]
  },
  {
   "cell_type": "markdown",
   "metadata": {},
   "source": [
    "# 6. For full dataset"
   ]
  },
  {
   "cell_type": "code",
   "execution_count": 29,
   "metadata": {},
   "outputs": [],
   "source": [
    "df = pd.read_csv('./final_data/train.csv', nrows=5000)"
   ]
  },
  {
   "cell_type": "code",
   "execution_count": 30,
   "metadata": {},
   "outputs": [],
   "source": [
    "df['driver_rta'] = df.apply(lambda row: calc_rta(row['GoodArrived'], row['ClientCollected']), axis=1)"
   ]
  },
  {
   "cell_type": "code",
   "execution_count": 31,
   "metadata": {},
   "outputs": [],
   "source": [
    "df['time_dif'] = df.apply(lambda row: time_dif(row['ETA'], row['driver_rta']), axis=1)"
   ]
  },
  {
   "cell_type": "code",
   "execution_count": 32,
   "metadata": {},
   "outputs": [],
   "source": [
    "df['start_dif'] = df.apply(lambda row: start_point_dif(row['latitude'], row['longitude'],\n",
    "                                                   row['onway_latitude'], row['onway_longitude']), axis=1)"
   ]
  },
  {
   "cell_type": "code",
   "execution_count": 33,
   "metadata": {},
   "outputs": [],
   "source": [
    "df['end_dif'] = df.apply(lambda row: start_point_dif(row['del_latitude'], row['del_longitude'],\n",
    "                                                   row['arrived_latitude'], row['arrived_longitude']), axis=1)"
   ]
  },
  {
   "cell_type": "code",
   "execution_count": 34,
   "metadata": {},
   "outputs": [],
   "source": [
    "df.dropna(subset=['time_dif', 'start_dif', 'end_dif'], inplace=True)"
   ]
  },
  {
   "cell_type": "code",
   "execution_count": 35,
   "metadata": {},
   "outputs": [],
   "source": [
    "# reset index after dropping missing values earlier\n",
    "df.reset_index(inplace=True)"
   ]
  },
  {
   "cell_type": "code",
   "execution_count": 36,
   "metadata": {},
   "outputs": [
    {
     "data": {
      "text/plain": [
       "(4982, 28)"
      ]
     },
     "execution_count": 36,
     "metadata": {},
     "output_type": "execute_result"
    }
   ],
   "source": [
    "df.shape"
   ]
  },
  {
   "cell_type": "code",
   "execution_count": 37,
   "metadata": {},
   "outputs": [
    {
     "data": {
      "text/html": [
       "<div>\n",
       "<style scoped>\n",
       "    .dataframe tbody tr th:only-of-type {\n",
       "        vertical-align: middle;\n",
       "    }\n",
       "\n",
       "    .dataframe tbody tr th {\n",
       "        vertical-align: top;\n",
       "    }\n",
       "\n",
       "    .dataframe thead th {\n",
       "        text-align: right;\n",
       "    }\n",
       "</style>\n",
       "<table border=\"1\" class=\"dataframe\">\n",
       "  <thead>\n",
       "    <tr style=\"text-align: right;\">\n",
       "      <th></th>\n",
       "      <th>index</th>\n",
       "      <th>Id</th>\n",
       "      <th>main_id_locality</th>\n",
       "      <th>ETA</th>\n",
       "      <th>RTA</th>\n",
       "      <th>OrderedDate</th>\n",
       "      <th>latitude</th>\n",
       "      <th>del_latitude</th>\n",
       "      <th>longitude</th>\n",
       "      <th>del_longitude</th>\n",
       "      <th>...</th>\n",
       "      <th>onway_longitude</th>\n",
       "      <th>arrived_latitude</th>\n",
       "      <th>arrived_longitude</th>\n",
       "      <th>center_latitude</th>\n",
       "      <th>center_longitude</th>\n",
       "      <th>route</th>\n",
       "      <th>driver_rta</th>\n",
       "      <th>time_dif</th>\n",
       "      <th>start_dif</th>\n",
       "      <th>end_dif</th>\n",
       "    </tr>\n",
       "  </thead>\n",
       "  <tbody>\n",
       "    <tr>\n",
       "      <th>0</th>\n",
       "      <td>0</td>\n",
       "      <td>0</td>\n",
       "      <td>1078</td>\n",
       "      <td>226.0</td>\n",
       "      <td>188.0</td>\n",
       "      <td>2020-02-12 19:12:06</td>\n",
       "      <td>55.826019</td>\n",
       "      <td>55.825581</td>\n",
       "      <td>49.134529</td>\n",
       "      <td>49.126949</td>\n",
       "      <td>...</td>\n",
       "      <td>49.134137</td>\n",
       "      <td>55.825706</td>\n",
       "      <td>49.127136</td>\n",
       "      <td>55.794388</td>\n",
       "      <td>49.111531</td>\n",
       "      <td>gnvsIaq{jHChA??uC???OPG^F^NRzKBd@AN[r@???`@`@`...</td>\n",
       "      <td>188.0</td>\n",
       "      <td>1444.0</td>\n",
       "      <td>36.337392</td>\n",
       "      <td>18.215878</td>\n",
       "    </tr>\n",
       "    <tr>\n",
       "      <th>1</th>\n",
       "      <td>1</td>\n",
       "      <td>1</td>\n",
       "      <td>1078</td>\n",
       "      <td>718.0</td>\n",
       "      <td>725.0</td>\n",
       "      <td>2020-02-12 19:12:22</td>\n",
       "      <td>55.795502</td>\n",
       "      <td>55.820911</td>\n",
       "      <td>49.131470</td>\n",
       "      <td>49.115360</td>\n",
       "      <td>...</td>\n",
       "      <td>49.131552</td>\n",
       "      <td>55.821531</td>\n",
       "      <td>49.115685</td>\n",
       "      <td>55.794388</td>\n",
       "      <td>49.111531</td>\n",
       "      <td>sqpsI}~zjHyAr]e@lMk@fLaBlb@i@rLKhBCdAUxEGlCg@f...</td>\n",
       "      <td>725.0</td>\n",
       "      <td>49.0</td>\n",
       "      <td>6.983666</td>\n",
       "      <td>71.764889</td>\n",
       "    </tr>\n",
       "    <tr>\n",
       "      <th>2</th>\n",
       "      <td>2</td>\n",
       "      <td>2</td>\n",
       "      <td>1078</td>\n",
       "      <td>612.0</td>\n",
       "      <td>764.0</td>\n",
       "      <td>2020-02-12 19:12:44</td>\n",
       "      <td>55.791050</td>\n",
       "      <td>55.819962</td>\n",
       "      <td>49.226070</td>\n",
       "      <td>49.176628</td>\n",
       "      <td>...</td>\n",
       "      <td>49.226066</td>\n",
       "      <td>55.819765</td>\n",
       "      <td>49.177432</td>\n",
       "      <td>55.794388</td>\n",
       "      <td>49.111531</td>\n",
       "      <td>auosI}mmkH?LHd@KhC??o@w@[g@m@iAUk@??{G|OiB`Ek@...</td>\n",
       "      <td>764.0</td>\n",
       "      <td>23104.0</td>\n",
       "      <td>5.426626</td>\n",
       "      <td>54.780441</td>\n",
       "    </tr>\n",
       "    <tr>\n",
       "      <th>3</th>\n",
       "      <td>3</td>\n",
       "      <td>3</td>\n",
       "      <td>1078</td>\n",
       "      <td>1560.0</td>\n",
       "      <td>1412.0</td>\n",
       "      <td>2020-02-12 19:12:44</td>\n",
       "      <td>55.753899</td>\n",
       "      <td>55.824680</td>\n",
       "      <td>49.188519</td>\n",
       "      <td>49.093700</td>\n",
       "      <td>...</td>\n",
       "      <td>49.188853</td>\n",
       "      <td>55.824734</td>\n",
       "      <td>49.094013</td>\n",
       "      <td>55.794388</td>\n",
       "      <td>49.111531</td>\n",
       "      <td>{lhsIiffkHmKN_C?mIPwMJ??Si@gA{B??Wq@MRCJTp@hAd...</td>\n",
       "      <td>1412.0</td>\n",
       "      <td>21904.0</td>\n",
       "      <td>31.961390</td>\n",
       "      <td>20.453490</td>\n",
       "    </tr>\n",
       "    <tr>\n",
       "      <th>4</th>\n",
       "      <td>4</td>\n",
       "      <td>4</td>\n",
       "      <td>1078</td>\n",
       "      <td>1528.0</td>\n",
       "      <td>893.0</td>\n",
       "      <td>2020-02-12 19:12:45</td>\n",
       "      <td>55.822361</td>\n",
       "      <td>55.786758</td>\n",
       "      <td>49.069092</td>\n",
       "      <td>49.143501</td>\n",
       "      <td>...</td>\n",
       "      <td>49.069229</td>\n",
       "      <td>55.786936</td>\n",
       "      <td>49.143330</td>\n",
       "      <td>55.794388</td>\n",
       "      <td>49.111531</td>\n",
       "      <td>yxusI{xnjHgAfG??}IuHkAqA??pIoe@VsA??dAkG`BuH??...</td>\n",
       "      <td>893.0</td>\n",
       "      <td>403225.0</td>\n",
       "      <td>29.757272</td>\n",
       "      <td>22.437192</td>\n",
       "    </tr>\n",
       "  </tbody>\n",
       "</table>\n",
       "<p>5 rows × 28 columns</p>\n",
       "</div>"
      ],
      "text/plain": [
       "   index  Id  main_id_locality     ETA     RTA          OrderedDate  \\\n",
       "0      0   0              1078   226.0   188.0  2020-02-12 19:12:06   \n",
       "1      1   1              1078   718.0   725.0  2020-02-12 19:12:22   \n",
       "2      2   2              1078   612.0   764.0  2020-02-12 19:12:44   \n",
       "3      3   3              1078  1560.0  1412.0  2020-02-12 19:12:44   \n",
       "4      4   4              1078  1528.0   893.0  2020-02-12 19:12:45   \n",
       "\n",
       "    latitude  del_latitude  longitude  del_longitude  ...  onway_longitude  \\\n",
       "0  55.826019     55.825581  49.134529      49.126949  ...        49.134137   \n",
       "1  55.795502     55.820911  49.131470      49.115360  ...        49.131552   \n",
       "2  55.791050     55.819962  49.226070      49.176628  ...        49.226066   \n",
       "3  55.753899     55.824680  49.188519      49.093700  ...        49.188853   \n",
       "4  55.822361     55.786758  49.069092      49.143501  ...        49.069229   \n",
       "\n",
       "   arrived_latitude arrived_longitude center_latitude center_longitude  \\\n",
       "0         55.825706         49.127136       55.794388        49.111531   \n",
       "1         55.821531         49.115685       55.794388        49.111531   \n",
       "2         55.819765         49.177432       55.794388        49.111531   \n",
       "3         55.824734         49.094013       55.794388        49.111531   \n",
       "4         55.786936         49.143330       55.794388        49.111531   \n",
       "\n",
       "                                               route  driver_rta  time_dif  \\\n",
       "0  gnvsIaq{jHChA??uC???OPG^F^NRzKBd@AN[r@???`@`@`...       188.0    1444.0   \n",
       "1  sqpsI}~zjHyAr]e@lMk@fLaBlb@i@rLKhBCdAUxEGlCg@f...       725.0      49.0   \n",
       "2  auosI}mmkH?LHd@KhC??o@w@[g@m@iAUk@??{G|OiB`Ek@...       764.0   23104.0   \n",
       "3  {lhsIiffkHmKN_C?mIPwMJ??Si@gA{B??Wq@MRCJTp@hAd...      1412.0   21904.0   \n",
       "4  yxusI{xnjHgAfG??}IuHkAqA??pIoe@VsA??dAkG`BuH??...       893.0  403225.0   \n",
       "\n",
       "   start_dif    end_dif  \n",
       "0  36.337392  18.215878  \n",
       "1   6.983666  71.764889  \n",
       "2   5.426626  54.780441  \n",
       "3  31.961390  20.453490  \n",
       "4  29.757272  22.437192  \n",
       "\n",
       "[5 rows x 28 columns]"
      ]
     },
     "execution_count": 37,
     "metadata": {},
     "output_type": "execute_result"
    }
   ],
   "source": [
    "df.head(5)"
   ]
  },
  {
   "cell_type": "code",
   "execution_count": 38,
   "metadata": {},
   "outputs": [
    {
     "name": "stdout",
     "output_type": "stream",
     "text": [
      "367.91136838913235 4982\n"
     ]
    }
   ],
   "source": [
    "INITIAL_METRIC = rta_metric(df['ETA'], df['driver_rta'])\n",
    "INITIAL_SIZE = df.shape[0]\n",
    "print(INITIAL_METRIC, INITIAL_SIZE)"
   ]
  },
  {
   "cell_type": "code",
   "execution_count": 39,
   "metadata": {},
   "outputs": [],
   "source": [
    "from sklearn.metrics.pairwise import euclidean_distances\n",
    "THRESHOLD = 1000\n",
    "def calc_dist(time_dif, start_dif, end_dif):\n",
    "    idx = 0\n",
    "    for p1 in good_points:\n",
    "        p2 = time_dif, start_dif, end_dif\n",
    "        dist = euclidean_distances((p1,p2))[0][1]\n",
    "        if dist <= THRESHOLD:\n",
    "            return True\n",
    "        # don't wait a long!\n",
    "        idx += 1\n",
    "        if idx >= 300:\n",
    "            break\n",
    "    return False"
   ]
  },
  {
   "cell_type": "code",
   "execution_count": 40,
   "metadata": {},
   "outputs": [],
   "source": [
    "df['is_good'] = df.apply(lambda row: calc_dist(row['time_dif'], row['start_dif'],\n",
    "                                                   row['end_dif']), axis=1)"
   ]
  },
  {
   "cell_type": "code",
   "execution_count": 41,
   "metadata": {},
   "outputs": [
    {
     "data": {
      "text/html": [
       "<div>\n",
       "<style scoped>\n",
       "    .dataframe tbody tr th:only-of-type {\n",
       "        vertical-align: middle;\n",
       "    }\n",
       "\n",
       "    .dataframe tbody tr th {\n",
       "        vertical-align: top;\n",
       "    }\n",
       "\n",
       "    .dataframe thead th {\n",
       "        text-align: right;\n",
       "    }\n",
       "</style>\n",
       "<table border=\"1\" class=\"dataframe\">\n",
       "  <thead>\n",
       "    <tr style=\"text-align: right;\">\n",
       "      <th></th>\n",
       "      <th>index</th>\n",
       "      <th>Id</th>\n",
       "      <th>main_id_locality</th>\n",
       "      <th>ETA</th>\n",
       "      <th>RTA</th>\n",
       "      <th>OrderedDate</th>\n",
       "      <th>latitude</th>\n",
       "      <th>del_latitude</th>\n",
       "      <th>longitude</th>\n",
       "      <th>del_longitude</th>\n",
       "      <th>...</th>\n",
       "      <th>arrived_latitude</th>\n",
       "      <th>arrived_longitude</th>\n",
       "      <th>center_latitude</th>\n",
       "      <th>center_longitude</th>\n",
       "      <th>route</th>\n",
       "      <th>driver_rta</th>\n",
       "      <th>time_dif</th>\n",
       "      <th>start_dif</th>\n",
       "      <th>end_dif</th>\n",
       "      <th>is_good</th>\n",
       "    </tr>\n",
       "  </thead>\n",
       "  <tbody>\n",
       "    <tr>\n",
       "      <th>0</th>\n",
       "      <td>0</td>\n",
       "      <td>0</td>\n",
       "      <td>1078</td>\n",
       "      <td>226.0</td>\n",
       "      <td>188.0</td>\n",
       "      <td>2020-02-12 19:12:06</td>\n",
       "      <td>55.826019</td>\n",
       "      <td>55.825581</td>\n",
       "      <td>49.134529</td>\n",
       "      <td>49.126949</td>\n",
       "      <td>...</td>\n",
       "      <td>55.825706</td>\n",
       "      <td>49.127136</td>\n",
       "      <td>55.794388</td>\n",
       "      <td>49.111531</td>\n",
       "      <td>gnvsIaq{jHChA??uC???OPG^F^NRzKBd@AN[r@???`@`@`...</td>\n",
       "      <td>188.0</td>\n",
       "      <td>1444.0</td>\n",
       "      <td>36.337392</td>\n",
       "      <td>18.215878</td>\n",
       "      <td>True</td>\n",
       "    </tr>\n",
       "    <tr>\n",
       "      <th>1</th>\n",
       "      <td>1</td>\n",
       "      <td>1</td>\n",
       "      <td>1078</td>\n",
       "      <td>718.0</td>\n",
       "      <td>725.0</td>\n",
       "      <td>2020-02-12 19:12:22</td>\n",
       "      <td>55.795502</td>\n",
       "      <td>55.820911</td>\n",
       "      <td>49.131470</td>\n",
       "      <td>49.115360</td>\n",
       "      <td>...</td>\n",
       "      <td>55.821531</td>\n",
       "      <td>49.115685</td>\n",
       "      <td>55.794388</td>\n",
       "      <td>49.111531</td>\n",
       "      <td>sqpsI}~zjHyAr]e@lMk@fLaBlb@i@rLKhBCdAUxEGlCg@f...</td>\n",
       "      <td>725.0</td>\n",
       "      <td>49.0</td>\n",
       "      <td>6.983666</td>\n",
       "      <td>71.764889</td>\n",
       "      <td>True</td>\n",
       "    </tr>\n",
       "    <tr>\n",
       "      <th>2</th>\n",
       "      <td>2</td>\n",
       "      <td>2</td>\n",
       "      <td>1078</td>\n",
       "      <td>612.0</td>\n",
       "      <td>764.0</td>\n",
       "      <td>2020-02-12 19:12:44</td>\n",
       "      <td>55.791050</td>\n",
       "      <td>55.819962</td>\n",
       "      <td>49.226070</td>\n",
       "      <td>49.176628</td>\n",
       "      <td>...</td>\n",
       "      <td>55.819765</td>\n",
       "      <td>49.177432</td>\n",
       "      <td>55.794388</td>\n",
       "      <td>49.111531</td>\n",
       "      <td>auosI}mmkH?LHd@KhC??o@w@[g@m@iAUk@??{G|OiB`Ek@...</td>\n",
       "      <td>764.0</td>\n",
       "      <td>23104.0</td>\n",
       "      <td>5.426626</td>\n",
       "      <td>54.780441</td>\n",
       "      <td>True</td>\n",
       "    </tr>\n",
       "    <tr>\n",
       "      <th>3</th>\n",
       "      <td>3</td>\n",
       "      <td>3</td>\n",
       "      <td>1078</td>\n",
       "      <td>1560.0</td>\n",
       "      <td>1412.0</td>\n",
       "      <td>2020-02-12 19:12:44</td>\n",
       "      <td>55.753899</td>\n",
       "      <td>55.824680</td>\n",
       "      <td>49.188519</td>\n",
       "      <td>49.093700</td>\n",
       "      <td>...</td>\n",
       "      <td>55.824734</td>\n",
       "      <td>49.094013</td>\n",
       "      <td>55.794388</td>\n",
       "      <td>49.111531</td>\n",
       "      <td>{lhsIiffkHmKN_C?mIPwMJ??Si@gA{B??Wq@MRCJTp@hAd...</td>\n",
       "      <td>1412.0</td>\n",
       "      <td>21904.0</td>\n",
       "      <td>31.961390</td>\n",
       "      <td>20.453490</td>\n",
       "      <td>True</td>\n",
       "    </tr>\n",
       "    <tr>\n",
       "      <th>4</th>\n",
       "      <td>4</td>\n",
       "      <td>4</td>\n",
       "      <td>1078</td>\n",
       "      <td>1528.0</td>\n",
       "      <td>893.0</td>\n",
       "      <td>2020-02-12 19:12:45</td>\n",
       "      <td>55.822361</td>\n",
       "      <td>55.786758</td>\n",
       "      <td>49.069092</td>\n",
       "      <td>49.143501</td>\n",
       "      <td>...</td>\n",
       "      <td>55.786936</td>\n",
       "      <td>49.143330</td>\n",
       "      <td>55.794388</td>\n",
       "      <td>49.111531</td>\n",
       "      <td>yxusI{xnjHgAfG??}IuHkAqA??pIoe@VsA??dAkG`BuH??...</td>\n",
       "      <td>893.0</td>\n",
       "      <td>403225.0</td>\n",
       "      <td>29.757272</td>\n",
       "      <td>22.437192</td>\n",
       "      <td>True</td>\n",
       "    </tr>\n",
       "  </tbody>\n",
       "</table>\n",
       "<p>5 rows × 29 columns</p>\n",
       "</div>"
      ],
      "text/plain": [
       "   index  Id  main_id_locality     ETA     RTA          OrderedDate  \\\n",
       "0      0   0              1078   226.0   188.0  2020-02-12 19:12:06   \n",
       "1      1   1              1078   718.0   725.0  2020-02-12 19:12:22   \n",
       "2      2   2              1078   612.0   764.0  2020-02-12 19:12:44   \n",
       "3      3   3              1078  1560.0  1412.0  2020-02-12 19:12:44   \n",
       "4      4   4              1078  1528.0   893.0  2020-02-12 19:12:45   \n",
       "\n",
       "    latitude  del_latitude  longitude  del_longitude  ...  arrived_latitude  \\\n",
       "0  55.826019     55.825581  49.134529      49.126949  ...         55.825706   \n",
       "1  55.795502     55.820911  49.131470      49.115360  ...         55.821531   \n",
       "2  55.791050     55.819962  49.226070      49.176628  ...         55.819765   \n",
       "3  55.753899     55.824680  49.188519      49.093700  ...         55.824734   \n",
       "4  55.822361     55.786758  49.069092      49.143501  ...         55.786936   \n",
       "\n",
       "   arrived_longitude center_latitude center_longitude  \\\n",
       "0          49.127136       55.794388        49.111531   \n",
       "1          49.115685       55.794388        49.111531   \n",
       "2          49.177432       55.794388        49.111531   \n",
       "3          49.094013       55.794388        49.111531   \n",
       "4          49.143330       55.794388        49.111531   \n",
       "\n",
       "                                               route  driver_rta  time_dif  \\\n",
       "0  gnvsIaq{jHChA??uC???OPG^F^NRzKBd@AN[r@???`@`@`...       188.0    1444.0   \n",
       "1  sqpsI}~zjHyAr]e@lMk@fLaBlb@i@rLKhBCdAUxEGlCg@f...       725.0      49.0   \n",
       "2  auosI}mmkH?LHd@KhC??o@w@[g@m@iAUk@??{G|OiB`Ek@...       764.0   23104.0   \n",
       "3  {lhsIiffkHmKN_C?mIPwMJ??Si@gA{B??Wq@MRCJTp@hAd...      1412.0   21904.0   \n",
       "4  yxusI{xnjHgAfG??}IuHkAqA??pIoe@VsA??dAkG`BuH??...       893.0  403225.0   \n",
       "\n",
       "   start_dif    end_dif  is_good  \n",
       "0  36.337392  18.215878     True  \n",
       "1   6.983666  71.764889     True  \n",
       "2   5.426626  54.780441     True  \n",
       "3  31.961390  20.453490     True  \n",
       "4  29.757272  22.437192     True  \n",
       "\n",
       "[5 rows x 29 columns]"
      ]
     },
     "execution_count": 41,
     "metadata": {},
     "output_type": "execute_result"
    }
   ],
   "source": [
    "df.head(5)"
   ]
  },
  {
   "cell_type": "code",
   "execution_count": 42,
   "metadata": {},
   "outputs": [],
   "source": [
    "selector = (df['is_good'] == True)\n",
    "df = df[selector]\n",
    "CUR_SIZE = df.shape[0]\n",
    "CUR_METRIC = rta_metric(df['ETA'], df['driver_rta'])"
   ]
  },
  {
   "cell_type": "markdown",
   "metadata": {},
   "source": [
    "# Conclusion"
   ]
  },
  {
   "cell_type": "code",
   "execution_count": 43,
   "metadata": {},
   "outputs": [
    {
     "data": {
      "text/plain": [
       "(4204, 209.93020905444777)"
      ]
     },
     "execution_count": 43,
     "metadata": {},
     "output_type": "execute_result"
    }
   ],
   "source": [
    "CUR_SIZE, CUR_METRIC"
   ]
  },
  {
   "cell_type": "code",
   "execution_count": 44,
   "metadata": {},
   "outputs": [
    {
     "data": {
      "text/plain": [
       "(4204, 29)"
      ]
     },
     "execution_count": 44,
     "metadata": {},
     "output_type": "execute_result"
    }
   ],
   "source": [
    "df.shape"
   ]
  },
  {
   "cell_type": "code",
   "execution_count": 45,
   "metadata": {},
   "outputs": [
    {
     "data": {
      "text/plain": [
       "0.8438378161380972"
      ]
     },
     "execution_count": 45,
     "metadata": {},
     "output_type": "execute_result"
    }
   ],
   "source": [
    "CUR_SIZE / INITIAL_SIZE"
   ]
  },
  {
   "cell_type": "code",
   "execution_count": 46,
   "metadata": {},
   "outputs": [
    {
     "data": {
      "text/plain": [
       "367.91136838913235"
      ]
     },
     "execution_count": 46,
     "metadata": {},
     "output_type": "execute_result"
    }
   ],
   "source": [
    "INITIAL_METRIC"
   ]
  },
  {
   "cell_type": "code",
   "execution_count": null,
   "metadata": {},
   "outputs": [],
   "source": []
  }
 ],
 "metadata": {
  "kernelspec": {
   "display_name": "Python 3",
   "language": "python",
   "name": "python3"
  },
  "language_info": {
   "codemirror_mode": {
    "name": "ipython",
    "version": 3
   },
   "file_extension": ".py",
   "mimetype": "text/x-python",
   "name": "python",
   "nbconvert_exporter": "python",
   "pygments_lexer": "ipython3",
   "version": "3.6.9"
  }
 },
 "nbformat": 4,
 "nbformat_minor": 4
}
